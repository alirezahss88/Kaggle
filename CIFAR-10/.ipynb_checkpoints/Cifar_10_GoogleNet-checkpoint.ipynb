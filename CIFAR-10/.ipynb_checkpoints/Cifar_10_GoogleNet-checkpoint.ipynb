{
 "cells": [
  {
   "cell_type": "code",
   "execution_count": 1,
   "id": "e0510382",
   "metadata": {},
   "outputs": [],
   "source": [
    "import keras\n",
    "import tensorflow as tf\n",
    "from keras.datasets import cifar10\n",
    "from keras.preprocessing.image import ImageDataGenerator\n",
    "from keras.layers import Dense, BatchNormalization, Conv2D, Dropout, Activation, Flatten, MaxPooling2D\n",
    "from keras.models import Sequential\n",
    "from keras.callbacks import ModelCheckpoint\n",
    "from keras import regularizers, optimizers\n",
    "from tensorflow.keras.utils import to_categorical\n",
    "import numpy as np\n",
    "import matplotlib.pyplot as plt\n",
    "from sklearn.preprocessing import StandardScaler"
   ]
  },
  {
   "cell_type": "code",
   "execution_count": 2,
   "id": "69296d4b",
   "metadata": {},
   "outputs": [],
   "source": [
    "(x_train, y_train), (x_test, y_test) = cifar10.load_data()"
   ]
  },
  {
   "cell_type": "code",
   "execution_count": 3,
   "id": "d3d58c39",
   "metadata": {},
   "outputs": [],
   "source": [
    "(x_train, x_valid) = x_train[5000:], x_train[:5000]\n",
    "(y_train, y_valid) = y_train[5000:], y_train[:5000]"
   ]
  },
  {
   "cell_type": "code",
   "execution_count": 4,
   "id": "8094d4bf",
   "metadata": {},
   "outputs": [],
   "source": [
    "mean = np.mean(x_train, axis=(0, 1, 2, 3))\n",
    "std = np.std(x_train, axis=(0, 1, 2, 3))\n",
    "x_train = (x_train - mean)/std\n",
    "x_test = (x_test - mean)/std\n",
    "x_vaild = (x_valid - mean)/std"
   ]
  },
  {
   "cell_type": "code",
   "execution_count": 5,
   "id": "9b2d52f4",
   "metadata": {},
   "outputs": [],
   "source": [
    "n_classes = 10\n",
    "y_train = to_categorical(y_train, n_classes)\n",
    "y_test = to_categorical(y_test, n_classes)\n",
    "y_valid = to_categorical(y_valid, n_classes)"
   ]
  },
  {
   "cell_type": "code",
   "execution_count": 6,
   "id": "61cfb2d6",
   "metadata": {},
   "outputs": [],
   "source": [
    "datagen = ImageDataGenerator(rotation_range=15,\n",
    "                            width_shift_range=0.1,\n",
    "                            height_shift_range=0.1,\n",
    "                            horizontal_flip=True,\n",
    "                            vertical_flip=False)"
   ]
  },
  {
   "cell_type": "code",
   "execution_count": 15,
   "id": "0c3516a6",
   "metadata": {},
   "outputs": [],
   "source": [
    "def inception(previous_layer, kernel_size_1= (1, 1), kernel_size_2= (1, 1), kernel_size_3= (3, 3),\n",
    "                   kernel_size_4= (5, 5), kernel_size_5= (1, 1), kernel_size_6= (1, 1), max_pool= (3, 3), \n",
    "                   n_filters_1= None, n_filters_2=None, n_filters_3=None, \n",
    "                   n_filters_4=None, n_filters_5=None, n_filters_6=None):\n",
    "    \n",
    "    x1 = keras.layers.Conv2D(filters=n_filters_1, kernel_size=filter1)(previous_layer)\n",
    "    x2 = keras.layers.Conv2D(filters=n_filters_2, kernel_size=filter2)(previous_layer)\n",
    "    x3 = keras.layers.MaxPool2D()(previous_layer)\n",
    "    x4 = keras.layers.Conv2D(filters=n_filters_6, kernel_size=filter6)(previous_layer)\n",
    "    x5 = keras.layers.Conv2D(filters=n_filters_3, kernel_size=filter3)(x1)\n",
    "    x6 = keras.layers.Conv2D(filters=n_filters_4, kernel_size=filter4)(x2)\n",
    "    x7 = keras.layers.Conv2D(filters=n_filters_5, kernel_size=filter5)(x3)\n",
    "    \n",
    "    y = keras.layers.Concatenate(axis=3)([x4, x5, x6, x7])\n",
    "    return y"
   ]
  },
  {
   "cell_type": "code",
   "execution_count": 13,
   "id": "b96d5f0e",
   "metadata": {},
   "outputs": [
    {
     "ename": "SyntaxError",
     "evalue": "invalid syntax (Temp/ipykernel_17664/3538550099.py, line 12)",
     "output_type": "error",
     "traceback": [
      "\u001b[1;36m  File \u001b[1;32m\"C:\\Users\\ALIREZ~1\\AppData\\Local\\Temp/ipykernel_17664/3538550099.py\"\u001b[1;36m, line \u001b[1;32m12\u001b[0m\n\u001b[1;33m    x = inception(x, n_filters_1=96 , n_filters_2=(), n_filters_3=(), n_filters_4=(), n_filters_5=64, n_filters_6=)\u001b[0m\n\u001b[1;37m                                                                                                                  ^\u001b[0m\n\u001b[1;31mSyntaxError\u001b[0m\u001b[1;31m:\u001b[0m invalid syntax\n"
     ]
    }
   ],
   "source": [
    "def model(input_shape=(5, 5)):\n",
    "    # the most bottom module\n",
    "    x = keras.Input(shape=input_shape)\n",
    "    x = keras.layers.Conv2D(64, (7, 7), padding='same', activation='relu', stride=(2, 2))(x)\n",
    "    x = keras.layers.MaxPool2D(pool_size=(3, 2))(x)\n",
    "    x = keras.layers.MaxPool2D((3, 3), padding='same', strides=(2, 2))(x)\n",
    "    x = BatchNormalization()(x)\n",
    "    x = Conv2D(64, (1, 1), padding='same', strides=(1, 1), activation='relu')(x)\n",
    "    x = Conv2D(192, (3, 3), padding='same', strides=(1, 1), activation='relu')(x)\n",
    "    x = BatchNormalization()(x)\n",
    "    x = MaxPool2D((3, 3), padding='same', strides=(2, 2))(x)\n",
    "    # first inception block consists of 2 modules\n",
    "    x = inception(x, n_filters_1=96 , n_filters_2=16, n_filters_3=32, n_filters_4=32, n_filters_5=64, n_filters_6=128)\n",
    "    x = inception(x, n_filters_1=128 , n_filters_2=32, n_filters_3=96, n_filters_4=64, n_filters_5=128, n_filters_6=192)\n",
    "    \n",
    "    x = MaxPool2D((3, 3), padding='same', strides=(2, 2))(x)\n",
    "    \n",
    "    x = inception(x, n_filters_1=96 , n_filters_2=16, n_filters_3=32, n_filters_4=32, n_filters_5=64, n_filters_6=128)\n",
    "    x = inception(x, n_filters_1=128 , n_filters_2=32, n_filters_3=96, n_filters_4=64, n_filters_5=128, n_filters_6=192)"
   ]
  },
  {
   "cell_type": "code",
   "execution_count": null,
   "id": "4395566e",
   "metadata": {},
   "outputs": [],
   "source": []
  }
 ],
 "metadata": {
  "kernelspec": {
   "display_name": "Python 3 (ipykernel)",
   "language": "python",
   "name": "python3"
  },
  "language_info": {
   "codemirror_mode": {
    "name": "ipython",
    "version": 3
   },
   "file_extension": ".py",
   "mimetype": "text/x-python",
   "name": "python",
   "nbconvert_exporter": "python",
   "pygments_lexer": "ipython3",
   "version": "3.9.7"
  }
 },
 "nbformat": 4,
 "nbformat_minor": 5
}
