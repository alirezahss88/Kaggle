{
 "cells": [
  {
   "cell_type": "code",
   "execution_count": 1,
   "id": "1400ae46",
   "metadata": {},
   "outputs": [],
   "source": [
    "import keras\n",
    "import tensorflow as tf\n",
    "from keras.datasets import cifar10\n",
    "from keras.preprocessing.image import ImageDataGenerator\n",
    "from keras.layers import Dense, BatchNormalization, Conv2D, Dropout, Activation, Flatten, MaxPooling2D\n",
    "from keras.models import Sequential\n",
    "from keras.callbacks import ModelCheckpoint\n",
    "from keras import regularizers, optimizers\n",
    "from tensorflow.keras.utils import to_categorical\n",
    "import numpy as np\n",
    "import matplotlib.pyplot as plt\n",
    "from sklearn.preprocessing import StandardScaler"
   ]
  },
  {
   "cell_type": "code",
   "execution_count": 2,
   "id": "7c5de62e",
   "metadata": {},
   "outputs": [],
   "source": [
    "(x_train, y_train), (x_test, y_test) = cifar10.load_data()"
   ]
  },
  {
   "cell_type": "code",
   "execution_count": 3,
   "id": "9b2e3389",
   "metadata": {},
   "outputs": [],
   "source": [
    "(x_train, x_valid) = x_train[5000:], x_train[:5000]\n",
    "(y_train, y_valid) = y_train[5000:], y_train[:5000]"
   ]
  },
  {
   "cell_type": "code",
   "execution_count": 4,
   "id": "c845e22b",
   "metadata": {},
   "outputs": [],
   "source": [
    "mean = np.mean(x_train, axis=(0, 1, 2, 3))\n",
    "std = np.std(x_train, axis=(0, 1, 2, 3))\n",
    "x_train = (x_train - mean)/std\n",
    "x_test = (x_test - mean)/std\n",
    "x_vaild = (x_valid - mean)/std"
   ]
  },
  {
   "cell_type": "code",
   "execution_count": 5,
   "id": "1fb5e217",
   "metadata": {},
   "outputs": [],
   "source": [
    "n_classes = 10\n",
    "y_train = to_categorical(y_train, n_classes)\n",
    "y_test = to_categorical(y_test, n_classes)\n",
    "y_valid = to_categorical(y_valid, n_classes)"
   ]
  },
  {
   "cell_type": "code",
   "execution_count": 6,
   "id": "67d98a5e",
   "metadata": {},
   "outputs": [],
   "source": [
    "datagen = ImageDataGenerator(rotation_range=15,\n",
    "                            width_shift_range=0.1,\n",
    "                            height_shift_range=0.1,\n",
    "                            horizontal_flip=True,\n",
    "                            vertical_flip=False)"
   ]
  },
  {
   "cell_type": "code",
   "execution_count": 34,
   "id": "9226565a",
   "metadata": {},
   "outputs": [],
   "source": [
    "def inception(previous_layer, kernel_size_1= (1, 1), kernel_size_2= (1, 1), kernel_size_3= (3, 3),\n",
    "                   kernel_size_4= (5, 5), kernel_size_5= (1, 1), kernel_size_6= (1, 1), max_pool= (3, 3), \n",
    "                   n_filters_1= None, n_filters_2=None, n_filters_3=None, \n",
    "                   n_filters_4=None, n_filters_5=None, n_filters_6=None):\n",
    "    \n",
    "    x1 = keras.layers.Conv2D(filters=n_filters_1, kernel_size=kernel_size_1)(previous_layer)\n",
    "    x2 = keras.layers.Conv2D(filters=n_filters_2, kernel_size=kernel_size_2)(previous_layer)\n",
    "    x3 = keras.layers.MaxPool2D()(previous_layer)\n",
    "    x7 = keras.layers.Conv2D(filters=n_filters_6, kernel_size=kernel_size_6)(previous_layer)\n",
    "    x5 = keras.layers.Conv2D(filters=n_filters_3, kernel_size=kernel_size_4)(x1)\n",
    "    x6 = keras.layers.Conv2D(filters=n_filters_4, kernel_size=kernel_size_4)(x2)\n",
    "    x7 = keras.layers.Conv2D(filters=n_filters_5, kernel_size=kernel_size_5)(x3)\n",
    "    \n",
    "    y = keras.layers.Concatenate(axis=3)([x4, x5, x6, x7])\n",
    "    return y"
   ]
  },
  {
   "cell_type": "code",
   "execution_count": 35,
   "id": "26ded408",
   "metadata": {},
   "outputs": [],
   "source": [
    "def model(input_shape=(224, 224, 3)):\n",
    "    # the most bottom module\n",
    "    inputs = keras.Input(shape=input_shape)\n",
    "    x = keras.layers.Conv2D(64, (7, 7), padding='same', activation='relu', strides=(2, 2))(inputs)\n",
    "    x = keras.layers.MaxPool2D(pool_size=(3, 2))(x)\n",
    "    x = keras.layers.MaxPool2D((3, 3), padding='same', strides=(2, 2))(x)\n",
    "    x = keras.layers.BatchNormalization()(x)\n",
    "    x = keras.layers.Conv2D(64, (1, 1), padding='same', strides=(1, 1), activation='relu')(x)\n",
    "    x = keras.layers.Conv2D(192, (3, 3), padding='same', strides=(1, 1), activation='relu')(x)\n",
    "    x = keras.layers.BatchNormalization()(x)\n",
    "    x = keras.layers.MaxPool2D((3, 3), padding='same', strides=(2, 2))(x)\n",
    "    # first inception block consists of 2 modules\n",
    "    x = inception(x, n_filters_1=96 , n_filters_2=16, n_filters_3=32, n_filters_4=32, n_filters_5=64, n_filters_6=128)\n",
    "    x = inception(x, n_filters_1=128 , n_filters_2=32, n_filters_3=96, n_filters_4=64, n_filters_5=128, n_filters_6=192)\n",
    "    \n",
    "    x = keras.layers.MaxPool2D((3, 3), padding='same', strides=(2, 2))(x)\n",
    "    \n",
    "    x = inception(x, n_filters_1=96 , n_filters_2=16, n_filters_3=48, n_filters_4=32, n_filters_5=192, n_filters_6=208)\n",
    "    x = inception(x, n_filters_1=112 , n_filters_2=24, n_filters_3=64, n_filters_4=64, n_filters_5=160, n_filters_6=224)\n",
    "    x = inception(x, n_filters_1=128 , n_filters_2=24, n_filters_3=64, n_filters_4=64, n_filters_5=128, n_filters_6=256)\n",
    "    x = inception(x, n_filters_1=144 , n_filters_2=32, n_filters_3=64, n_filters_4=64, n_filters_5=112, n_filters_6=288)\n",
    "    x = inception(x, n_filters_1=160 , n_filters_2=32, n_filters_3=128, n_filters_4=128, n_filters_5=256, n_filters_6=320)\n",
    "    \n",
    "    x = keras.layers.MaxPool2D((3, 3), padding='same', strides=(2, 2))(x)\n",
    "    x = inception(x, n_filters_1=160 , n_filters_2=32, n_filters_3=128, n_filters_4=128, n_filters_5=256, n_filters_6=320)\n",
    "    x = inception(x, n_filters_1=192 , n_filters_2=48, n_filters_3=128, n_filters_4=128, n_filters_5=384, n_filters_6=384)\n",
    "    \n",
    "    x = keras.layers.AveragePooling2D(pool_size=(7, 7), strides=1, padding='valid')(x)\n",
    "    x = keras.layers.Dropout(0.4)(x)\n",
    "    x = keras.layers.Dense(10, activation='softmax')(x)\n",
    "    \n",
    "    model = keras.Model(inputs=inputs, outputs=x)\n",
    "    return model"
   ]
  },
  {
   "cell_type": "code",
   "execution_count": 36,
   "id": "0dce7277",
   "metadata": {},
   "outputs": [
    {
     "ename": "ValueError",
     "evalue": "A `Concatenate` layer requires inputs with matching shapes except for the concatenation axis. Received: input_shape=[(None, 10, 14, 128), (None, 8, 12, 32), (None, 6, 10, 32), (None, 5, 7, 64)]",
     "output_type": "error",
     "traceback": [
      "\u001b[1;31m---------------------------------------------------------------------------\u001b[0m",
      "\u001b[1;31mValueError\u001b[0m                                Traceback (most recent call last)",
      "\u001b[1;32mC:\\Users\\ALIREZ~1\\AppData\\Local\\Temp/ipykernel_17664/3548955326.py\u001b[0m in \u001b[0;36m<module>\u001b[1;34m\u001b[0m\n\u001b[1;32m----> 1\u001b[1;33m \u001b[0mmodel\u001b[0m \u001b[1;33m=\u001b[0m \u001b[0mmodel\u001b[0m\u001b[1;33m(\u001b[0m\u001b[1;33m)\u001b[0m\u001b[1;33m\u001b[0m\u001b[1;33m\u001b[0m\u001b[0m\n\u001b[0m",
      "\u001b[1;32mC:\\Users\\ALIREZ~1\\AppData\\Local\\Temp/ipykernel_17664/2306190079.py\u001b[0m in \u001b[0;36mmodel\u001b[1;34m(input_shape)\u001b[0m\n\u001b[0;32m     11\u001b[0m     \u001b[0mx\u001b[0m \u001b[1;33m=\u001b[0m \u001b[0mkeras\u001b[0m\u001b[1;33m.\u001b[0m\u001b[0mlayers\u001b[0m\u001b[1;33m.\u001b[0m\u001b[0mMaxPool2D\u001b[0m\u001b[1;33m(\u001b[0m\u001b[1;33m(\u001b[0m\u001b[1;36m3\u001b[0m\u001b[1;33m,\u001b[0m \u001b[1;36m3\u001b[0m\u001b[1;33m)\u001b[0m\u001b[1;33m,\u001b[0m \u001b[0mpadding\u001b[0m\u001b[1;33m=\u001b[0m\u001b[1;34m'same'\u001b[0m\u001b[1;33m,\u001b[0m \u001b[0mstrides\u001b[0m\u001b[1;33m=\u001b[0m\u001b[1;33m(\u001b[0m\u001b[1;36m2\u001b[0m\u001b[1;33m,\u001b[0m \u001b[1;36m2\u001b[0m\u001b[1;33m)\u001b[0m\u001b[1;33m)\u001b[0m\u001b[1;33m(\u001b[0m\u001b[0mx\u001b[0m\u001b[1;33m)\u001b[0m\u001b[1;33m\u001b[0m\u001b[1;33m\u001b[0m\u001b[0m\n\u001b[0;32m     12\u001b[0m     \u001b[1;31m# first inception block consists of 2 modules\u001b[0m\u001b[1;33m\u001b[0m\u001b[1;33m\u001b[0m\u001b[0m\n\u001b[1;32m---> 13\u001b[1;33m     \u001b[0mx\u001b[0m \u001b[1;33m=\u001b[0m \u001b[0minception\u001b[0m\u001b[1;33m(\u001b[0m\u001b[0mx\u001b[0m\u001b[1;33m,\u001b[0m \u001b[0mn_filters_1\u001b[0m\u001b[1;33m=\u001b[0m\u001b[1;36m96\u001b[0m \u001b[1;33m,\u001b[0m \u001b[0mn_filters_2\u001b[0m\u001b[1;33m=\u001b[0m\u001b[1;36m16\u001b[0m\u001b[1;33m,\u001b[0m \u001b[0mn_filters_3\u001b[0m\u001b[1;33m=\u001b[0m\u001b[1;36m32\u001b[0m\u001b[1;33m,\u001b[0m \u001b[0mn_filters_4\u001b[0m\u001b[1;33m=\u001b[0m\u001b[1;36m32\u001b[0m\u001b[1;33m,\u001b[0m \u001b[0mn_filters_5\u001b[0m\u001b[1;33m=\u001b[0m\u001b[1;36m64\u001b[0m\u001b[1;33m,\u001b[0m \u001b[0mn_filters_6\u001b[0m\u001b[1;33m=\u001b[0m\u001b[1;36m128\u001b[0m\u001b[1;33m)\u001b[0m\u001b[1;33m\u001b[0m\u001b[1;33m\u001b[0m\u001b[0m\n\u001b[0m\u001b[0;32m     14\u001b[0m     \u001b[0mx\u001b[0m \u001b[1;33m=\u001b[0m \u001b[0minception\u001b[0m\u001b[1;33m(\u001b[0m\u001b[0mx\u001b[0m\u001b[1;33m,\u001b[0m \u001b[0mn_filters_1\u001b[0m\u001b[1;33m=\u001b[0m\u001b[1;36m128\u001b[0m \u001b[1;33m,\u001b[0m \u001b[0mn_filters_2\u001b[0m\u001b[1;33m=\u001b[0m\u001b[1;36m32\u001b[0m\u001b[1;33m,\u001b[0m \u001b[0mn_filters_3\u001b[0m\u001b[1;33m=\u001b[0m\u001b[1;36m96\u001b[0m\u001b[1;33m,\u001b[0m \u001b[0mn_filters_4\u001b[0m\u001b[1;33m=\u001b[0m\u001b[1;36m64\u001b[0m\u001b[1;33m,\u001b[0m \u001b[0mn_filters_5\u001b[0m\u001b[1;33m=\u001b[0m\u001b[1;36m128\u001b[0m\u001b[1;33m,\u001b[0m \u001b[0mn_filters_6\u001b[0m\u001b[1;33m=\u001b[0m\u001b[1;36m192\u001b[0m\u001b[1;33m)\u001b[0m\u001b[1;33m\u001b[0m\u001b[1;33m\u001b[0m\u001b[0m\n\u001b[0;32m     15\u001b[0m \u001b[1;33m\u001b[0m\u001b[0m\n",
      "\u001b[1;32mC:\\Users\\ALIREZ~1\\AppData\\Local\\Temp/ipykernel_17664/3926084583.py\u001b[0m in \u001b[0;36minception\u001b[1;34m(previous_layer, kernel_size_1, kernel_size_2, kernel_size_3, kernel_size_4, kernel_size_5, kernel_size_6, max_pool, n_filters_1, n_filters_2, n_filters_3, n_filters_4, n_filters_5, n_filters_6)\u001b[0m\n\u001b[0;32m     12\u001b[0m     \u001b[0mx7\u001b[0m \u001b[1;33m=\u001b[0m \u001b[0mkeras\u001b[0m\u001b[1;33m.\u001b[0m\u001b[0mlayers\u001b[0m\u001b[1;33m.\u001b[0m\u001b[0mConv2D\u001b[0m\u001b[1;33m(\u001b[0m\u001b[0mfilters\u001b[0m\u001b[1;33m=\u001b[0m\u001b[0mn_filters_5\u001b[0m\u001b[1;33m,\u001b[0m \u001b[0mkernel_size\u001b[0m\u001b[1;33m=\u001b[0m\u001b[0mkernel_size_5\u001b[0m\u001b[1;33m)\u001b[0m\u001b[1;33m(\u001b[0m\u001b[0mx3\u001b[0m\u001b[1;33m)\u001b[0m\u001b[1;33m\u001b[0m\u001b[1;33m\u001b[0m\u001b[0m\n\u001b[0;32m     13\u001b[0m \u001b[1;33m\u001b[0m\u001b[0m\n\u001b[1;32m---> 14\u001b[1;33m     \u001b[0my\u001b[0m \u001b[1;33m=\u001b[0m \u001b[0mkeras\u001b[0m\u001b[1;33m.\u001b[0m\u001b[0mlayers\u001b[0m\u001b[1;33m.\u001b[0m\u001b[0mConcatenate\u001b[0m\u001b[1;33m(\u001b[0m\u001b[0maxis\u001b[0m\u001b[1;33m=\u001b[0m\u001b[1;36m3\u001b[0m\u001b[1;33m)\u001b[0m\u001b[1;33m(\u001b[0m\u001b[1;33m[\u001b[0m\u001b[0mx4\u001b[0m\u001b[1;33m,\u001b[0m \u001b[0mx5\u001b[0m\u001b[1;33m,\u001b[0m \u001b[0mx6\u001b[0m\u001b[1;33m,\u001b[0m \u001b[0mx7\u001b[0m\u001b[1;33m]\u001b[0m\u001b[1;33m)\u001b[0m\u001b[1;33m\u001b[0m\u001b[1;33m\u001b[0m\u001b[0m\n\u001b[0m\u001b[0;32m     15\u001b[0m     \u001b[1;32mreturn\u001b[0m \u001b[0my\u001b[0m\u001b[1;33m\u001b[0m\u001b[1;33m\u001b[0m\u001b[0m\n",
      "\u001b[1;32mC:\\ProgramData\\Anaconda3\\lib\\site-packages\\keras\\utils\\traceback_utils.py\u001b[0m in \u001b[0;36merror_handler\u001b[1;34m(*args, **kwargs)\u001b[0m\n\u001b[0;32m     65\u001b[0m     \u001b[1;32mexcept\u001b[0m \u001b[0mException\u001b[0m \u001b[1;32mas\u001b[0m \u001b[0me\u001b[0m\u001b[1;33m:\u001b[0m  \u001b[1;31m# pylint: disable=broad-except\u001b[0m\u001b[1;33m\u001b[0m\u001b[1;33m\u001b[0m\u001b[0m\n\u001b[0;32m     66\u001b[0m       \u001b[0mfiltered_tb\u001b[0m \u001b[1;33m=\u001b[0m \u001b[0m_process_traceback_frames\u001b[0m\u001b[1;33m(\u001b[0m\u001b[0me\u001b[0m\u001b[1;33m.\u001b[0m\u001b[0m__traceback__\u001b[0m\u001b[1;33m)\u001b[0m\u001b[1;33m\u001b[0m\u001b[1;33m\u001b[0m\u001b[0m\n\u001b[1;32m---> 67\u001b[1;33m       \u001b[1;32mraise\u001b[0m \u001b[0me\u001b[0m\u001b[1;33m.\u001b[0m\u001b[0mwith_traceback\u001b[0m\u001b[1;33m(\u001b[0m\u001b[0mfiltered_tb\u001b[0m\u001b[1;33m)\u001b[0m \u001b[1;32mfrom\u001b[0m \u001b[1;32mNone\u001b[0m\u001b[1;33m\u001b[0m\u001b[1;33m\u001b[0m\u001b[0m\n\u001b[0m\u001b[0;32m     68\u001b[0m     \u001b[1;32mfinally\u001b[0m\u001b[1;33m:\u001b[0m\u001b[1;33m\u001b[0m\u001b[1;33m\u001b[0m\u001b[0m\n\u001b[0;32m     69\u001b[0m       \u001b[1;32mdel\u001b[0m \u001b[0mfiltered_tb\u001b[0m\u001b[1;33m\u001b[0m\u001b[1;33m\u001b[0m\u001b[0m\n",
      "\u001b[1;32mC:\\ProgramData\\Anaconda3\\lib\\site-packages\\keras\\layers\\merge.py\u001b[0m in \u001b[0;36mbuild\u001b[1;34m(self, input_shape)\u001b[0m\n\u001b[0;32m    526\u001b[0m             shape[axis] for shape in shape_set if shape[axis] is not None)\n\u001b[0;32m    527\u001b[0m         \u001b[1;32mif\u001b[0m \u001b[0mlen\u001b[0m\u001b[1;33m(\u001b[0m\u001b[0munique_dims\u001b[0m\u001b[1;33m)\u001b[0m \u001b[1;33m>\u001b[0m \u001b[1;36m1\u001b[0m\u001b[1;33m:\u001b[0m\u001b[1;33m\u001b[0m\u001b[1;33m\u001b[0m\u001b[0m\n\u001b[1;32m--> 528\u001b[1;33m           \u001b[1;32mraise\u001b[0m \u001b[0mValueError\u001b[0m\u001b[1;33m(\u001b[0m\u001b[0merr_msg\u001b[0m\u001b[1;33m)\u001b[0m\u001b[1;33m\u001b[0m\u001b[1;33m\u001b[0m\u001b[0m\n\u001b[0m\u001b[0;32m    529\u001b[0m \u001b[1;33m\u001b[0m\u001b[0m\n\u001b[0;32m    530\u001b[0m   \u001b[1;32mdef\u001b[0m \u001b[0m_merge_function\u001b[0m\u001b[1;33m(\u001b[0m\u001b[0mself\u001b[0m\u001b[1;33m,\u001b[0m \u001b[0minputs\u001b[0m\u001b[1;33m)\u001b[0m\u001b[1;33m:\u001b[0m\u001b[1;33m\u001b[0m\u001b[1;33m\u001b[0m\u001b[0m\n",
      "\u001b[1;31mValueError\u001b[0m: A `Concatenate` layer requires inputs with matching shapes except for the concatenation axis. Received: input_shape=[(None, 10, 14, 128), (None, 8, 12, 32), (None, 6, 10, 32), (None, 5, 7, 64)]"
     ]
    }
   ],
   "source": [
    "model = model()"
   ]
  },
  {
   "cell_type": "code",
   "execution_count": null,
   "id": "76a4170e",
   "metadata": {},
   "outputs": [],
   "source": []
  }
 ],
 "metadata": {
  "kernelspec": {
   "display_name": "Python 3 (ipykernel)",
   "language": "python",
   "name": "python3"
  },
  "language_info": {
   "codemirror_mode": {
    "name": "ipython",
    "version": 3
   },
   "file_extension": ".py",
   "mimetype": "text/x-python",
   "name": "python",
   "nbconvert_exporter": "python",
   "pygments_lexer": "ipython3",
   "version": "3.9.7"
  }
 },
 "nbformat": 4,
 "nbformat_minor": 5
}
