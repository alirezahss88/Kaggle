{
 "cells": [
  {
   "cell_type": "markdown",
   "id": "e21de395",
   "metadata": {},
   "source": [
    "# Import relevant libraries"
   ]
  },
  {
   "cell_type": "code",
   "execution_count": 114,
   "id": "6bfe9693",
   "metadata": {},
   "outputs": [],
   "source": [
    "# torch libraries to implement the NN model\n",
    "import torch\n",
    "import torch.nn as nn\n",
    "import torch.functional as F\n",
    "\n",
    "# torchvision modules to download, modify, manipulate the data\n",
    "import torchvision.datasets as datasets\n",
    "import torchvision.transforms as transforms\n",
    "from torch.utils.data import DataLoader\n",
    "from torchvision.utils import make_grid \n",
    "\n",
    "# ever-used libraries\n",
    "import numpy as np\n",
    "import pandas as pd\n",
    "import matplotlib.pyplot as plt\n",
    "import seaborn as sns\n",
    "sns.set()\n",
    "import os\n",
    "os.environ['KMP_DUPLICATE_LIB_OK'] = 'True'"
   ]
  },
  {
   "cell_type": "markdown",
   "id": "5120ca47",
   "metadata": {},
   "source": [
    "# Defining hyperparameters"
   ]
  },
  {
   "cell_type": "code",
   "execution_count": 97,
   "id": "c03d5cef",
   "metadata": {},
   "outputs": [],
   "source": [
    "n_epochs = 30\n",
    "lr = 0.001\n",
    "momentum = 0.9\n",
    "batch_size = 16"
   ]
  },
  {
   "cell_type": "markdown",
   "id": "35737722",
   "metadata": {},
   "source": [
    "# Defining utility functions"
   ]
  },
  {
   "cell_type": "code",
   "execution_count": 98,
   "id": "d55a4d4e",
   "metadata": {},
   "outputs": [],
   "source": [
    "def grid_im_show(dataloader, cmap='Greys'):\n",
    "    \"\"\"\n",
    "    A function to plot the random batch of \n",
    "    the data/\n",
    "    \"\"\"\n",
    "    plt.figure(figsize=(16, 8), dpi=180)        # creates a figure container to add subplots to\n",
    "    plt.tight_layout()\n",
    "    for i, img in enumerate(dataloader):\n",
    "        \n",
    "        plt.subplot(int(batch_size/4)+1, 4, i+1)\n",
    "        img_trans = img.numpy().transpose((1, 2, 0))       # changing the Pytorch channel order, channel-first, to \n",
    "                                                           # to the default of matplotlib, channel-last\n",
    "        plt.margins(0.5, 0.5)\n",
    "        plt.imshow(img_trans, cmap=cmap)"
   ]
  },
  {
   "cell_type": "code",
   "execution_count": 99,
   "id": "9a0a7085",
   "metadata": {},
   "outputs": [],
   "source": [
    "def evaluate_model(model, dataloader):\n",
    "    model.eval()                                # for batch normalization layers\n",
    "    corrects = 0\n",
    "    \n",
    "    with torch.no_grad():                      # torch.no_grad spaces up the memory when no differentiation is needed\n",
    "        for inputs, targets in dataloader:\n",
    "            outputs = model(inputs)\n",
    "            _, preds = torch.max(outputs, 1)   # the model returns a bunch of probabilities and we take the argmax.\n",
    "            corrects += (preds == targets.data).sum()  # if the prediction is correct, add to the counter\n",
    "    \n",
    "    return 100. * corrects / len(dataloader.dataset)"
   ]
  },
  {
   "cell_type": "markdown",
   "id": "96001777",
   "metadata": {},
   "source": [
    "# Pre-defining transformations of the test and train datasets"
   ]
  },
  {
   "cell_type": "code",
   "execution_count": 100,
   "id": "b8e79a02",
   "metadata": {},
   "outputs": [],
   "source": [
    "# transform applied to the training dataset including Data Augmentation to improve generalization\n",
    "transforms_train = transforms.Compose([\n",
    "        transforms.ToTensor(),\n",
    "        transforms.ColorJitter(0.3, 0.3, 0.3, 0.3),\n",
    "        transforms.RandomRotation(20),\n",
    "        transforms.Normalize((0.1307,), (0.3081,))])\n",
    "\n",
    "\n",
    "# transform applied to the training dataset\n",
    "transforms_test = transforms.Compose([\n",
    "        transforms.ToTensor(),\n",
    "        transforms.Normalize((0.1307,), (0.3081,))])\n"
   ]
  },
  {
   "cell_type": "markdown",
   "id": "bdb7adab",
   "metadata": {},
   "source": [
    "# Downloading the train and test datasets"
   ]
  },
  {
   "cell_type": "code",
   "execution_count": 101,
   "id": "b59936c7",
   "metadata": {},
   "outputs": [],
   "source": [
    "data = datasets.MNIST(root='./.',\n",
    "                     train=True,\n",
    "                     download=False,\n",
    "                     transform=transforms_train)\n",
    "\n",
    "test = datasets.MNIST(root='./.',\n",
    "                     train=False,\n",
    "                     download=True,\n",
    "                     transform=transforms_test)"
   ]
  },
  {
   "cell_type": "markdown",
   "id": "963a1fce",
   "metadata": {},
   "source": [
    "# Train and test DataLoaders"
   ]
  },
  {
   "cell_type": "code",
   "execution_count": 102,
   "id": "0cc6cbd3",
   "metadata": {},
   "outputs": [],
   "source": [
    "\n",
    "train_dl = DataLoader(data, \n",
    "                     batch_size=batch_size,\n",
    "                     shuffle=True,\n",
    "                     num_workers= 8)\n",
    "\n",
    "test_dl = DataLoader(test, \n",
    "                     batch_size=batch_size,\n",
    "                     shuffle=False,\n",
    "                     num_workers= 8)\n",
    "\n",
    "train_iter = iter(train_dl)"
   ]
  },
  {
   "cell_type": "code",
   "execution_count": 103,
   "id": "a4378730",
   "metadata": {},
   "outputs": [],
   "source": [
    "count_dict = {}\n",
    "for i in train_dl.dataset.class_to_idx.values():\n",
    "    count_dict[i] = 0\n",
    "    \n",
    "for i in train_dl.dataset.targets.numpy():\n",
    "    count_dict[i] += 1\n"
   ]
  },
  {
   "cell_type": "code",
   "execution_count": 115,
   "id": "6b064104",
   "metadata": {},
   "outputs": [
    {
     "data": {
      "image/png": "[encoded data removed]",
      "text/plain": [
       "<Figure size 432x288 with 1 Axes>"
      ]
     },
     "metadata": {},
     "output_type": "display_data"
    }
   ],
   "source": [
    "plt.bar(train_dl.dataset.class_to_idx.values(), count_dict.values())\n",
    "plt.xticks(np.arange(0,10));"
   ]
  },
  {
   "cell_type": "markdown",
   "id": "cb54026d",
   "metadata": {},
   "source": [
    "# Plotting a batch of train images"
   ]
  },
  {
   "cell_type": "code",
   "execution_count": 105,
   "id": "583302cd",
   "metadata": {},
   "outputs": [
    {
     "data": {
      "image/png": "[encoded data removed]",
      "text/plain": [
       "<Figure size 2880x1440 with 16 Axes>"
      ]
     },
     "metadata": {
      "needs_background": "light"
     },
     "output_type": "display_data"
    }
   ],
   "source": [
    "imgs, labels = next(train_iter)\n",
    "grid_im_show(imgs, cmap='Greys')"
   ]
  },
  {
   "cell_type": "code",
   "execution_count": 106,
   "id": "e60a432d",
   "metadata": {},
   "outputs": [],
   "source": [
    "# Creating the CNN class with 2 Conv layers, one fully connected layer.\n",
    "class MNIST_CNN(nn.Module):\n",
    "    \n",
    "    def __init__(self):\n",
    "        super(MNIST_CNN, self).__init__()\n",
    "        \n",
    "        self.conv1 = nn.Conv2d(1, 16, kernel_size=7, padding='same')\n",
    "        self.norm1 = nn.BatchNorm2d(16)\n",
    "        self.relu1 = nn.ReLU()\n",
    "        self.maxp1 = nn.MaxPool2d(2)\n",
    "        \n",
    "        self.conv2 = nn.Conv2d(16, 32, kernel_size=7, padding='same')\n",
    "        self.norm2 = nn.BatchNorm2d(32)\n",
    "        self.relu2 = nn.ReLU()\n",
    "        self.maxp2 = nn.MaxPool2d(2)\n",
    "        \n",
    "        self.fc = nn.Linear(7*7*32, 10)\n",
    "        \n",
    "    def forward(self, x):\n",
    "        out = self.conv1(x)\n",
    "        out = self.norm1(out)\n",
    "        out = self.relu1(out)\n",
    "        out = self.maxp1(out)\n",
    "        out = self.conv2(out)\n",
    "        out = self.norm2(out)\n",
    "        out = self.relu2(out)\n",
    "        out = self.maxp2(out)\n",
    "        out = out.view(batch_size, -1)\n",
    "        out = self.fc(out)\n",
    "        return out\n",
    "    \n",
    "    "
   ]
  },
  {
   "cell_type": "code",
   "execution_count": 107,
   "id": "dbaab232",
   "metadata": {},
   "outputs": [],
   "source": [
    "model = MNIST_CNN()       # Instantiating the Class"
   ]
  },
  {
   "cell_type": "code",
   "execution_count": 108,
   "id": "0510bf2d",
   "metadata": {},
   "outputs": [],
   "source": [
    "# instantiating the optimizer and the loss function\n",
    "\n",
    "optimizer = torch.optim.SGD(model.parameters(), lr=lr, momentum=momentum)\n",
    "loss = nn.CrossEntropyLoss()"
   ]
  },
  {
   "cell_type": "code",
   "execution_count": 109,
   "id": "fdef524f",
   "metadata": {},
   "outputs": [
    {
     "name": "stdout",
     "output_type": "stream",
     "text": [
      "episode 1, loss 0.22589\n",
      "episode 2, loss 0.00555\n",
      "episode 3, loss 0.08233\n",
      "episode 4, loss 0.00886\n",
      "episode 5, loss 0.02406\n",
      "episode 6, loss 0.00183\n",
      "episode 7, loss 0.01042\n",
      "episode 8, loss 0.00265\n",
      "episode 9, loss 0.00930\n",
      "episode 10, loss 0.02885\n",
      "episode 11, loss 0.00754\n",
      "episode 12, loss 0.00015\n",
      "episode 13, loss 0.16853\n",
      "episode 14, loss 0.03245\n",
      "episode 15, loss 0.00312\n",
      "episode 16, loss 0.00029\n",
      "episode 17, loss 0.00678\n",
      "episode 18, loss 0.01662\n",
      "episode 19, loss 0.00257\n",
      "episode 20, loss 0.00294\n",
      "episode 21, loss 0.00016\n",
      "episode 22, loss 0.00020\n",
      "episode 23, loss 0.01022\n",
      "episode 24, loss 0.00250\n",
      "episode 25, loss 0.00119\n",
      "episode 26, loss 0.08935\n",
      "episode 27, loss 0.00081\n",
      "episode 28, loss 0.00504\n",
      "episode 29, loss 0.03576\n",
      "episode 30, loss 0.00023\n"
     ]
    }
   ],
   "source": [
    "losses = []\n",
    "for e in range(30):                                 # run the for loop for the number of epochs\n",
    "    for i, (imgs, labels) in enumerate(train_dl):\n",
    "        \n",
    "        outputs= model(imgs)                        # returns the outputs\n",
    "        l = loss(outputs, labels)\n",
    "        optimizer.zero_grad()                       # gradients should be set to zeros in every iterartion             \n",
    "        losses.append(l.item())\n",
    "        \n",
    "        l.backward()                                # calculates the gradients\n",
    "        optimizer.step()                            # step forward using the calculated gradients and SGD formula\n",
    "        \n",
    "        if (i+1) % 3750 == 0:\n",
    "            print(f'episode {e+1}, loss {l.item():.5f}')"
   ]
  },
  {
   "cell_type": "markdown",
   "id": "8185fee5",
   "metadata": {},
   "source": [
    "# Calculating accuracies"
   ]
  },
  {
   "cell_type": "code",
   "execution_count": 110,
   "id": "4a6f1d7c",
   "metadata": {},
   "outputs": [
    {
     "name": "stdout",
     "output_type": "stream",
     "text": [
      " The training accuracy is 99.46%\n"
     ]
    }
   ],
   "source": [
    "print(f' The training accuracy is {evaluate_model(model, train_dl):.2f}%')"
   ]
  },
  {
   "cell_type": "code",
   "execution_count": 111,
   "id": "b7ccd2e2",
   "metadata": {},
   "outputs": [
    {
     "name": "stdout",
     "output_type": "stream",
     "text": [
      " The testing accuracy is 99.44%\n"
     ]
    }
   ],
   "source": [
    "print(f' The testing accuracy is {evaluate_model(model, test_dl):.2f}%')"
   ]
  }
 ],
 "metadata": {
  "kernelspec": {
   "display_name": "Python 3 (ipykernel)",
   "language": "python",
   "name": "python3"
  },
  "language_info": {
   "codemirror_mode": {
    "name": "ipython",
    "version": 3
   },
   "file_extension": ".py",
   "mimetype": "text/x-python",
   "name": "python",
   "nbconvert_exporter": "python",
   "pygments_lexer": "ipython3",
   "version": "3.9.7"
  }
 },
 "nbformat": 4,
 "nbformat_minor": 5
}
