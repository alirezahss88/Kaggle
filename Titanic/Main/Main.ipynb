{
 "cells": [
  {
   "cell_type": "markdown",
   "id": "5ab35361",
   "metadata": {},
   "source": [
    "# Import relevant libraries"
   ]
  },
  {
   "cell_type": "code",
   "execution_count": 33,
   "id": "8ffd0852",
   "metadata": {},
   "outputs": [],
   "source": [
    "import numpy as np\n",
    "import pandas as pd\n",
    "import matplotlib.pyplot as plt\n",
    "import seaborn as sns\n",
    "import os\n",
    "sns.set()\n",
    "\n",
    "# preprocessing modules\n",
    "from sklearn.preprocessing import StandardScaler, OneHotEncoder\n",
    "from imblearn.over_sampling import RandomOverSampler\n",
    "from sklearn.impute import KNNImputer\n",
    "\n",
    "# pipeline constructors\n",
    "from sklearn.pipeline import make_pipeline\n",
    "from sklearn.compose import make_column_transformer\n",
    "from sklearn import set_config\n",
    "\n",
    "# model selection libraries\n",
    "from sklearn.model_selection import train_test_split, GridSearchCV\n",
    "from sklearn.metrics import accuracy_score, plot_confusion_matrix\n",
    "\n",
    "# ML algorithm libraries\n",
    "from sklearn.svm import SVC\n",
    "from sklearn.linear_model import LogisticRegression\n",
    "from sklearn.neighbors import KNeighborsClassifier\n",
    "from sklearn.ensemble import RandomForestClassifier\n",
    "from sklearn.svm import SVC\n",
    "from sklearn.decomposition import PCA\n",
    "\n",
    "from sklearn.base import BaseEstimator, TransformerMixin\n",
    "set_config(display=\"diagram\")"
   ]
  },
  {
   "cell_type": "markdown",
   "id": "94d5b04e",
   "metadata": {},
   "source": [
    "# Loading training and test dataset"
   ]
  },
  {
   "cell_type": "code",
   "execution_count": 34,
   "id": "c6cf5b42",
   "metadata": {},
   "outputs": [],
   "source": [
    "# specifying directories\n",
    "main_dir = \"D:/Books/Machine Learning/Real_World_project/Titanic/dataset/\"     # main directory of the dataset\n",
    "train_dir = os.path.join(main_dir, 'train.csv')\n"
   ]
  },
  {
   "cell_type": "code",
   "execution_count": 35,
   "id": "76ef9bc2",
   "metadata": {},
   "outputs": [
    {
     "data": {
      "text/html": [
       "<div>\n",
       "<style scoped>\n",
       "    .dataframe tbody tr th:only-of-type {\n",
       "        vertical-align: middle;\n",
       "    }\n",
       "\n",
       "    .dataframe tbody tr th {\n",
       "        vertical-align: top;\n",
       "    }\n",
       "\n",
       "    .dataframe thead th {\n",
       "        text-align: right;\n",
       "    }\n",
       "</style>\n",
       "<table border=\"1\" class=\"dataframe\">\n",
       "  <thead>\n",
       "    <tr style=\"text-align: right;\">\n",
       "      <th></th>\n",
       "      <th>PassengerId</th>\n",
       "      <th>Survived</th>\n",
       "      <th>Pclass</th>\n",
       "      <th>Name</th>\n",
       "      <th>Sex</th>\n",
       "      <th>Age</th>\n",
       "      <th>SibSp</th>\n",
       "      <th>Parch</th>\n",
       "      <th>Ticket</th>\n",
       "      <th>Fare</th>\n",
       "      <th>Cabin</th>\n",
       "      <th>Embarked</th>\n",
       "    </tr>\n",
       "  </thead>\n",
       "  <tbody>\n",
       "    <tr>\n",
       "      <th>0</th>\n",
       "      <td>1</td>\n",
       "      <td>0</td>\n",
       "      <td>3</td>\n",
       "      <td>Braund, Mr. Owen Harris</td>\n",
       "      <td>male</td>\n",
       "      <td>22.0</td>\n",
       "      <td>1</td>\n",
       "      <td>0</td>\n",
       "      <td>A/5 21171</td>\n",
       "      <td>7.2500</td>\n",
       "      <td>NaN</td>\n",
       "      <td>S</td>\n",
       "    </tr>\n",
       "    <tr>\n",
       "      <th>1</th>\n",
       "      <td>2</td>\n",
       "      <td>1</td>\n",
       "      <td>1</td>\n",
       "      <td>Cumings, Mrs. John Bradley (Florence Briggs Th...</td>\n",
       "      <td>female</td>\n",
       "      <td>38.0</td>\n",
       "      <td>1</td>\n",
       "      <td>0</td>\n",
       "      <td>PC 17599</td>\n",
       "      <td>71.2833</td>\n",
       "      <td>C85</td>\n",
       "      <td>C</td>\n",
       "    </tr>\n",
       "    <tr>\n",
       "      <th>2</th>\n",
       "      <td>3</td>\n",
       "      <td>1</td>\n",
       "      <td>3</td>\n",
       "      <td>Heikkinen, Miss. Laina</td>\n",
       "      <td>female</td>\n",
       "      <td>26.0</td>\n",
       "      <td>0</td>\n",
       "      <td>0</td>\n",
       "      <td>STON/O2. 3101282</td>\n",
       "      <td>7.9250</td>\n",
       "      <td>NaN</td>\n",
       "      <td>S</td>\n",
       "    </tr>\n",
       "    <tr>\n",
       "      <th>3</th>\n",
       "      <td>4</td>\n",
       "      <td>1</td>\n",
       "      <td>1</td>\n",
       "      <td>Futrelle, Mrs. Jacques Heath (Lily May Peel)</td>\n",
       "      <td>female</td>\n",
       "      <td>35.0</td>\n",
       "      <td>1</td>\n",
       "      <td>0</td>\n",
       "      <td>113803</td>\n",
       "      <td>53.1000</td>\n",
       "      <td>C123</td>\n",
       "      <td>S</td>\n",
       "    </tr>\n",
       "    <tr>\n",
       "      <th>4</th>\n",
       "      <td>5</td>\n",
       "      <td>0</td>\n",
       "      <td>3</td>\n",
       "      <td>Allen, Mr. William Henry</td>\n",
       "      <td>male</td>\n",
       "      <td>35.0</td>\n",
       "      <td>0</td>\n",
       "      <td>0</td>\n",
       "      <td>373450</td>\n",
       "      <td>8.0500</td>\n",
       "      <td>NaN</td>\n",
       "      <td>S</td>\n",
       "    </tr>\n",
       "    <tr>\n",
       "      <th>...</th>\n",
       "      <td>...</td>\n",
       "      <td>...</td>\n",
       "      <td>...</td>\n",
       "      <td>...</td>\n",
       "      <td>...</td>\n",
       "      <td>...</td>\n",
       "      <td>...</td>\n",
       "      <td>...</td>\n",
       "      <td>...</td>\n",
       "      <td>...</td>\n",
       "      <td>...</td>\n",
       "      <td>...</td>\n",
       "    </tr>\n",
       "    <tr>\n",
       "      <th>886</th>\n",
       "      <td>887</td>\n",
       "      <td>0</td>\n",
       "      <td>2</td>\n",
       "      <td>Montvila, Rev. Juozas</td>\n",
       "      <td>male</td>\n",
       "      <td>27.0</td>\n",
       "      <td>0</td>\n",
       "      <td>0</td>\n",
       "      <td>211536</td>\n",
       "      <td>13.0000</td>\n",
       "      <td>NaN</td>\n",
       "      <td>S</td>\n",
       "    </tr>\n",
       "    <tr>\n",
       "      <th>887</th>\n",
       "      <td>888</td>\n",
       "      <td>1</td>\n",
       "      <td>1</td>\n",
       "      <td>Graham, Miss. Margaret Edith</td>\n",
       "      <td>female</td>\n",
       "      <td>19.0</td>\n",
       "      <td>0</td>\n",
       "      <td>0</td>\n",
       "      <td>112053</td>\n",
       "      <td>30.0000</td>\n",
       "      <td>B42</td>\n",
       "      <td>S</td>\n",
       "    </tr>\n",
       "    <tr>\n",
       "      <th>888</th>\n",
       "      <td>889</td>\n",
       "      <td>0</td>\n",
       "      <td>3</td>\n",
       "      <td>Johnston, Miss. Catherine Helen \"Carrie\"</td>\n",
       "      <td>female</td>\n",
       "      <td>NaN</td>\n",
       "      <td>1</td>\n",
       "      <td>2</td>\n",
       "      <td>W./C. 6607</td>\n",
       "      <td>23.4500</td>\n",
       "      <td>NaN</td>\n",
       "      <td>S</td>\n",
       "    </tr>\n",
       "    <tr>\n",
       "      <th>889</th>\n",
       "      <td>890</td>\n",
       "      <td>1</td>\n",
       "      <td>1</td>\n",
       "      <td>Behr, Mr. Karl Howell</td>\n",
       "      <td>male</td>\n",
       "      <td>26.0</td>\n",
       "      <td>0</td>\n",
       "      <td>0</td>\n",
       "      <td>111369</td>\n",
       "      <td>30.0000</td>\n",
       "      <td>C148</td>\n",
       "      <td>C</td>\n",
       "    </tr>\n",
       "    <tr>\n",
       "      <th>890</th>\n",
       "      <td>891</td>\n",
       "      <td>0</td>\n",
       "      <td>3</td>\n",
       "      <td>Dooley, Mr. Patrick</td>\n",
       "      <td>male</td>\n",
       "      <td>32.0</td>\n",
       "      <td>0</td>\n",
       "      <td>0</td>\n",
       "      <td>370376</td>\n",
       "      <td>7.7500</td>\n",
       "      <td>NaN</td>\n",
       "      <td>Q</td>\n",
       "    </tr>\n",
       "  </tbody>\n",
       "</table>\n",
       "<p>891 rows × 12 columns</p>\n",
       "</div>"
      ],
      "text/plain": [
       "     PassengerId  Survived  Pclass  \\\n",
       "0              1         0       3   \n",
       "1              2         1       1   \n",
       "2              3         1       3   \n",
       "3              4         1       1   \n",
       "4              5         0       3   \n",
       "..           ...       ...     ...   \n",
       "886          887         0       2   \n",
       "887          888         1       1   \n",
       "888          889         0       3   \n",
       "889          890         1       1   \n",
       "890          891         0       3   \n",
       "\n",
       "                                                  Name     Sex   Age  SibSp  \\\n",
       "0                              Braund, Mr. Owen Harris    male  22.0      1   \n",
       "1    Cumings, Mrs. John Bradley (Florence Briggs Th...  female  38.0      1   \n",
       "2                               Heikkinen, Miss. Laina  female  26.0      0   \n",
       "3         Futrelle, Mrs. Jacques Heath (Lily May Peel)  female  35.0      1   \n",
       "4                             Allen, Mr. William Henry    male  35.0      0   \n",
       "..                                                 ...     ...   ...    ...   \n",
       "886                              Montvila, Rev. Juozas    male  27.0      0   \n",
       "887                       Graham, Miss. Margaret Edith  female  19.0      0   \n",
       "888           Johnston, Miss. Catherine Helen \"Carrie\"  female   NaN      1   \n",
       "889                              Behr, Mr. Karl Howell    male  26.0      0   \n",
       "890                                Dooley, Mr. Patrick    male  32.0      0   \n",
       "\n",
       "     Parch            Ticket     Fare Cabin Embarked  \n",
       "0        0         A/5 21171   7.2500   NaN        S  \n",
       "1        0          PC 17599  71.2833   C85        C  \n",
       "2        0  STON/O2. 3101282   7.9250   NaN        S  \n",
       "3        0            113803  53.1000  C123        S  \n",
       "4        0            373450   8.0500   NaN        S  \n",
       "..     ...               ...      ...   ...      ...  \n",
       "886      0            211536  13.0000   NaN        S  \n",
       "887      0            112053  30.0000   B42        S  \n",
       "888      2        W./C. 6607  23.4500   NaN        S  \n",
       "889      0            111369  30.0000  C148        C  \n",
       "890      0            370376   7.7500   NaN        Q  \n",
       "\n",
       "[891 rows x 12 columns]"
      ]
     },
     "execution_count": 35,
     "metadata": {},
     "output_type": "execute_result"
    }
   ],
   "source": [
    "# loading the datasets\n",
    "train = pd.read_csv(train_dir)      \n",
    "train"
   ]
  },
  {
   "cell_type": "markdown",
   "id": "1d5cdaea",
   "metadata": {},
   "source": [
    "# Preprocessing steps"
   ]
  },
  {
   "cell_type": "code",
   "execution_count": 36,
   "id": "4638f278",
   "metadata": {},
   "outputs": [
    {
     "name": "stdout",
     "output_type": "stream",
     "text": [
      "PassengerId      0\n",
      "Survived         0\n",
      "Pclass           0\n",
      "Name             0\n",
      "Sex              0\n",
      "Age            177\n",
      "SibSp            0\n",
      "Parch            0\n",
      "Ticket           0\n",
      "Fare             0\n",
      "Cabin          687\n",
      "Embarked         2\n",
      "dtype: int64\n"
     ]
    }
   ],
   "source": [
    "# the number of NaN values in the training set per column\n",
    "print(train.isna().sum())"
   ]
  },
  {
   "cell_type": "code",
   "execution_count": 37,
   "id": "418aa7f0",
   "metadata": {},
   "outputs": [],
   "source": [
    "# droping non-significant columns\n",
    "train = train.drop(['Name','Ticket', 'PassengerId', 'Embarked'], axis=1)       \n",
    "\n",
    "# filling NaN values in the 'Cabin' column. if a passenger had a cabin, map to 1, else map to 0\n",
    "train['Cabin'] = train['Cabin'].apply(lambda x: 1 if type(x) is str else 0)"
   ]
  },
  {
   "cell_type": "markdown",
   "id": "4976d495",
   "metadata": {},
   "source": [
    "# Feature engineering"
   ]
  },
  {
   "cell_type": "code",
   "execution_count": 38,
   "id": "57c3601d",
   "metadata": {},
   "outputs": [
    {
     "data": {
      "text/html": [
       "<div>\n",
       "<style scoped>\n",
       "    .dataframe tbody tr th:only-of-type {\n",
       "        vertical-align: middle;\n",
       "    }\n",
       "\n",
       "    .dataframe tbody tr th {\n",
       "        vertical-align: top;\n",
       "    }\n",
       "\n",
       "    .dataframe thead th {\n",
       "        text-align: right;\n",
       "    }\n",
       "</style>\n",
       "<table border=\"1\" class=\"dataframe\">\n",
       "  <thead>\n",
       "    <tr style=\"text-align: right;\">\n",
       "      <th></th>\n",
       "      <th>Survived</th>\n",
       "      <th>Pclass</th>\n",
       "      <th>Sex</th>\n",
       "      <th>Age</th>\n",
       "      <th>Fare</th>\n",
       "      <th>Cabin</th>\n",
       "      <th>Relatives</th>\n",
       "    </tr>\n",
       "  </thead>\n",
       "  <tbody>\n",
       "    <tr>\n",
       "      <th>0</th>\n",
       "      <td>0</td>\n",
       "      <td>3</td>\n",
       "      <td>male</td>\n",
       "      <td>22.0</td>\n",
       "      <td>7.2500</td>\n",
       "      <td>0</td>\n",
       "      <td>1</td>\n",
       "    </tr>\n",
       "    <tr>\n",
       "      <th>1</th>\n",
       "      <td>1</td>\n",
       "      <td>1</td>\n",
       "      <td>female</td>\n",
       "      <td>38.0</td>\n",
       "      <td>71.2833</td>\n",
       "      <td>1</td>\n",
       "      <td>1</td>\n",
       "    </tr>\n",
       "    <tr>\n",
       "      <th>2</th>\n",
       "      <td>1</td>\n",
       "      <td>3</td>\n",
       "      <td>female</td>\n",
       "      <td>26.0</td>\n",
       "      <td>7.9250</td>\n",
       "      <td>0</td>\n",
       "      <td>0</td>\n",
       "    </tr>\n",
       "    <tr>\n",
       "      <th>3</th>\n",
       "      <td>1</td>\n",
       "      <td>1</td>\n",
       "      <td>female</td>\n",
       "      <td>35.0</td>\n",
       "      <td>53.1000</td>\n",
       "      <td>1</td>\n",
       "      <td>1</td>\n",
       "    </tr>\n",
       "    <tr>\n",
       "      <th>4</th>\n",
       "      <td>0</td>\n",
       "      <td>3</td>\n",
       "      <td>male</td>\n",
       "      <td>35.0</td>\n",
       "      <td>8.0500</td>\n",
       "      <td>0</td>\n",
       "      <td>0</td>\n",
       "    </tr>\n",
       "    <tr>\n",
       "      <th>...</th>\n",
       "      <td>...</td>\n",
       "      <td>...</td>\n",
       "      <td>...</td>\n",
       "      <td>...</td>\n",
       "      <td>...</td>\n",
       "      <td>...</td>\n",
       "      <td>...</td>\n",
       "    </tr>\n",
       "    <tr>\n",
       "      <th>886</th>\n",
       "      <td>0</td>\n",
       "      <td>2</td>\n",
       "      <td>male</td>\n",
       "      <td>27.0</td>\n",
       "      <td>13.0000</td>\n",
       "      <td>0</td>\n",
       "      <td>0</td>\n",
       "    </tr>\n",
       "    <tr>\n",
       "      <th>887</th>\n",
       "      <td>1</td>\n",
       "      <td>1</td>\n",
       "      <td>female</td>\n",
       "      <td>19.0</td>\n",
       "      <td>30.0000</td>\n",
       "      <td>1</td>\n",
       "      <td>0</td>\n",
       "    </tr>\n",
       "    <tr>\n",
       "      <th>888</th>\n",
       "      <td>0</td>\n",
       "      <td>3</td>\n",
       "      <td>female</td>\n",
       "      <td>NaN</td>\n",
       "      <td>23.4500</td>\n",
       "      <td>0</td>\n",
       "      <td>3</td>\n",
       "    </tr>\n",
       "    <tr>\n",
       "      <th>889</th>\n",
       "      <td>1</td>\n",
       "      <td>1</td>\n",
       "      <td>male</td>\n",
       "      <td>26.0</td>\n",
       "      <td>30.0000</td>\n",
       "      <td>1</td>\n",
       "      <td>0</td>\n",
       "    </tr>\n",
       "    <tr>\n",
       "      <th>890</th>\n",
       "      <td>0</td>\n",
       "      <td>3</td>\n",
       "      <td>male</td>\n",
       "      <td>32.0</td>\n",
       "      <td>7.7500</td>\n",
       "      <td>0</td>\n",
       "      <td>0</td>\n",
       "    </tr>\n",
       "  </tbody>\n",
       "</table>\n",
       "<p>891 rows × 7 columns</p>\n",
       "</div>"
      ],
      "text/plain": [
       "     Survived  Pclass     Sex   Age     Fare  Cabin  Relatives\n",
       "0           0       3    male  22.0   7.2500      0          1\n",
       "1           1       1  female  38.0  71.2833      1          1\n",
       "2           1       3  female  26.0   7.9250      0          0\n",
       "3           1       1  female  35.0  53.1000      1          1\n",
       "4           0       3    male  35.0   8.0500      0          0\n",
       "..        ...     ...     ...   ...      ...    ...        ...\n",
       "886         0       2    male  27.0  13.0000      0          0\n",
       "887         1       1  female  19.0  30.0000      1          0\n",
       "888         0       3  female   NaN  23.4500      0          3\n",
       "889         1       1    male  26.0  30.0000      1          0\n",
       "890         0       3    male  32.0   7.7500      0          0\n",
       "\n",
       "[891 rows x 7 columns]"
      ]
     },
     "execution_count": 38,
     "metadata": {},
     "output_type": "execute_result"
    }
   ],
   "source": [
    "train['Relatives'] = train['SibSp'] + train['Parch']\n",
    "train.drop(['SibSp', 'Parch'], inplace=True, axis=1)\n",
    "train"
   ]
  },
  {
   "cell_type": "markdown",
   "id": "b2579440",
   "metadata": {},
   "source": [
    "# Data Preprocessing"
   ]
  },
  {
   "cell_type": "code",
   "execution_count": 39,
   "id": "f13c3123",
   "metadata": {},
   "outputs": [],
   "source": [
    "# splitting the training dataset into X_train and y_train\n",
    "X_train = train.drop(['Survived'], axis=1)\n",
    "y_train = train[['Survived']]\n"
   ]
  },
  {
   "cell_type": "code",
   "execution_count": 40,
   "id": "2390d5c3",
   "metadata": {},
   "outputs": [
    {
     "data": {
      "text/plain": [
       "Text(0.5, 1.0, 'No of Survived vs. No of Died passenger')"
      ]
     },
     "execution_count": 40,
     "metadata": {},
     "output_type": "execute_result"
    },
    {
     "data": {
      "image/png": "[encoded data removed]",
      "text/plain": [
       "<Figure size 432x288 with 1 Axes>"
      ]
     },
     "metadata": {},
     "output_type": "display_data"
    }
   ],
   "source": [
    "# Plotting a bar chart for specifying how balanced is the training set \n",
    "plt.bar(['Survived', 'Died'],\n",
    "        [sum(y_train['Survived']==1), sum(y_train['Survived']==0.)])\n",
    "plt.ylabel('No of passengers')\n",
    "plt.title('No of Survived vs. No of Died passenger')"
   ]
  },
  {
   "cell_type": "code",
   "execution_count": 41,
   "id": "68e846de",
   "metadata": {},
   "outputs": [
    {
     "data": {
      "text/plain": [
       "<BarContainer object of 2 artists>"
      ]
     },
     "execution_count": 41,
     "metadata": {},
     "output_type": "execute_result"
    },
    {
     "data": {
      "image/png": "[encoded data removed]",
      "text/plain": [
       "<Figure size 432x288 with 1 Axes>"
      ]
     },
     "metadata": {},
     "output_type": "display_data"
    }
   ],
   "source": [
    "# oversampling the training set to balance the data\n",
    "X_train, y_train = RandomOverSampler(sampling_strategy=1.).fit_resample(X_train, y_train)\n",
    "\n",
    "# plotting the bar chart after oversampling\n",
    "plt.bar(['Survived', 'Dead'], [sum(y_train['Survived']==1), sum(y_train['Survived']==0.)])\n",
    "\n"
   ]
  },
  {
   "cell_type": "markdown",
   "id": "78e7d192",
   "metadata": {},
   "source": [
    "# Pipeline configuration"
   ]
  },
  {
   "cell_type": "markdown",
   "id": "24d1a6dd",
   "metadata": {},
   "source": [
    "### Pipeline with LogisticRegression model"
   ]
  },
  {
   "cell_type": "code",
   "execution_count": 42,
   "id": "2e7fce43",
   "metadata": {
    "scrolled": true
   },
   "outputs": [
    {
     "data": {
      "text/html": [
       "<style>#sk-3a8a1b66-b883-4c26-9c9f-6466997659ac {color: black;background-color: white;}#sk-3a8a1b66-b883-4c26-9c9f-6466997659ac pre{padding: 0;}#sk-3a8a1b66-b883-4c26-9c9f-6466997659ac div.sk-toggleable {background-color: white;}#sk-3a8a1b66-b883-4c26-9c9f-6466997659ac label.sk-toggleable__label {cursor: pointer;display: block;width: 100%;margin-bottom: 0;padding: 0.2em 0.3em;box-sizing: border-box;text-align: center;}#sk-3a8a1b66-b883-4c26-9c9f-6466997659ac div.sk-toggleable__content {max-height: 0;max-width: 0;overflow: hidden;text-align: left;background-color: #f0f8ff;}#sk-3a8a1b66-b883-4c26-9c9f-6466997659ac div.sk-toggleable__content pre {margin: 0.2em;color: black;border-radius: 0.25em;background-color: #f0f8ff;}#sk-3a8a1b66-b883-4c26-9c9f-6466997659ac input.sk-toggleable__control:checked~div.sk-toggleable__content {max-height: 200px;max-width: 100%;overflow: auto;}#sk-3a8a1b66-b883-4c26-9c9f-6466997659ac div.sk-estimator input.sk-toggleable__control:checked~label.sk-toggleable__label {background-color: #d4ebff;}#sk-3a8a1b66-b883-4c26-9c9f-6466997659ac div.sk-label input.sk-toggleable__control:checked~label.sk-toggleable__label {background-color: #d4ebff;}#sk-3a8a1b66-b883-4c26-9c9f-6466997659ac input.sk-hidden--visually {border: 0;clip: rect(1px 1px 1px 1px);clip: rect(1px, 1px, 1px, 1px);height: 1px;margin: -1px;overflow: hidden;padding: 0;position: absolute;width: 1px;}#sk-3a8a1b66-b883-4c26-9c9f-6466997659ac div.sk-estimator {font-family: monospace;background-color: #f0f8ff;margin: 0.25em 0.25em;border: 1px dotted black;border-radius: 0.25em;box-sizing: border-box;}#sk-3a8a1b66-b883-4c26-9c9f-6466997659ac div.sk-estimator:hover {background-color: #d4ebff;}#sk-3a8a1b66-b883-4c26-9c9f-6466997659ac div.sk-parallel-item::after {content: \"\";width: 100%;border-bottom: 1px solid gray;flex-grow: 1;}#sk-3a8a1b66-b883-4c26-9c9f-6466997659ac div.sk-label:hover label.sk-toggleable__label {background-color: #d4ebff;}#sk-3a8a1b66-b883-4c26-9c9f-6466997659ac div.sk-serial::before {content: \"\";position: absolute;border-left: 1px solid gray;box-sizing: border-box;top: 2em;bottom: 0;left: 50%;}#sk-3a8a1b66-b883-4c26-9c9f-6466997659ac div.sk-serial {display: flex;flex-direction: column;align-items: center;background-color: white;}#sk-3a8a1b66-b883-4c26-9c9f-6466997659ac div.sk-item {z-index: 1;}#sk-3a8a1b66-b883-4c26-9c9f-6466997659ac div.sk-parallel {display: flex;align-items: stretch;justify-content: center;background-color: white;}#sk-3a8a1b66-b883-4c26-9c9f-6466997659ac div.sk-parallel-item {display: flex;flex-direction: column;position: relative;background-color: white;}#sk-3a8a1b66-b883-4c26-9c9f-6466997659ac div.sk-parallel-item:first-child::after {align-self: flex-end;width: 50%;}#sk-3a8a1b66-b883-4c26-9c9f-6466997659ac div.sk-parallel-item:last-child::after {align-self: flex-start;width: 50%;}#sk-3a8a1b66-b883-4c26-9c9f-6466997659ac div.sk-parallel-item:only-child::after {width: 0;}#sk-3a8a1b66-b883-4c26-9c9f-6466997659ac div.sk-dashed-wrapped {border: 1px dashed gray;margin: 0.2em;box-sizing: border-box;padding-bottom: 0.1em;background-color: white;position: relative;}#sk-3a8a1b66-b883-4c26-9c9f-6466997659ac div.sk-label label {font-family: monospace;font-weight: bold;background-color: white;display: inline-block;line-height: 1.2em;}#sk-3a8a1b66-b883-4c26-9c9f-6466997659ac div.sk-label-container {position: relative;z-index: 2;text-align: center;}#sk-3a8a1b66-b883-4c26-9c9f-6466997659ac div.sk-container {display: inline-block;position: relative;}</style><div id=\"sk-3a8a1b66-b883-4c26-9c9f-6466997659ac\" class\"sk-top-container\"><div class=\"sk-container\"><div class=\"sk-item sk-dashed-wrapped\"><div class=\"sk-label-container\"><div class=\"sk-label sk-toggleable\"><input class=\"sk-toggleable__control sk-hidden--visually\" id=\"0af92fc5-7a77-4717-b0c1-3e566c359dc2\" type=\"checkbox\" ><label class=\"sk-toggleable__label\" for=\"0af92fc5-7a77-4717-b0c1-3e566c359dc2\">Pipeline</label><div class=\"sk-toggleable__content\"><pre>Pipeline(steps=[('columntransformer',\n",
       "                 ColumnTransformer(remainder='passthrough',\n",
       "                                   transformers=[('pipeline-1',\n",
       "                                                  Pipeline(steps=[('knnimputer',\n",
       "                                                                   KNNImputer())]),\n",
       "                                                  ['Age']),\n",
       "                                                 ('pipeline-2',\n",
       "                                                  Pipeline(steps=[('onehotencoder',\n",
       "                                                                   OneHotEncoder(drop='first'))]),\n",
       "                                                  ['Sex'])])),\n",
       "                ('standardscaler', StandardScaler()),\n",
       "                ('logisticregression', LogisticRegression())])</pre></div></div></div><div class=\"sk-serial\"><div class=\"sk-item sk-dashed-wrapped\"><div class=\"sk-label-container\"><div class=\"sk-label sk-toggleable\"><input class=\"sk-toggleable__control sk-hidden--visually\" id=\"dc342e56-ff9d-4e28-99a1-2a70c1fcdd22\" type=\"checkbox\" ><label class=\"sk-toggleable__label\" for=\"dc342e56-ff9d-4e28-99a1-2a70c1fcdd22\">columntransformer: ColumnTransformer</label><div class=\"sk-toggleable__content\"><pre>ColumnTransformer(remainder='passthrough',\n",
       "                  transformers=[('pipeline-1',\n",
       "                                 Pipeline(steps=[('knnimputer', KNNImputer())]),\n",
       "                                 ['Age']),\n",
       "                                ('pipeline-2',\n",
       "                                 Pipeline(steps=[('onehotencoder',\n",
       "                                                  OneHotEncoder(drop='first'))]),\n",
       "                                 ['Sex'])])</pre></div></div></div><div class=\"sk-parallel\"><div class=\"sk-parallel-item\"><div class=\"sk-item\"><div class=\"sk-label-container\"><div class=\"sk-label sk-toggleable\"><input class=\"sk-toggleable__control sk-hidden--visually\" id=\"4d2f735f-c0c6-49ce-ab68-66dc3eaa5058\" type=\"checkbox\" ><label class=\"sk-toggleable__label\" for=\"4d2f735f-c0c6-49ce-ab68-66dc3eaa5058\">pipeline-1</label><div class=\"sk-toggleable__content\"><pre>['Age']</pre></div></div></div><div class=\"sk-serial\"><div class=\"sk-item\"><div class=\"sk-serial\"><div class=\"sk-item\"><div class=\"sk-estimator sk-toggleable\"><input class=\"sk-toggleable__control sk-hidden--visually\" id=\"8fda0e7f-58c7-44be-8ce5-df9b36fa6d1f\" type=\"checkbox\" ><label class=\"sk-toggleable__label\" for=\"8fda0e7f-58c7-44be-8ce5-df9b36fa6d1f\">KNNImputer</label><div class=\"sk-toggleable__content\"><pre>KNNImputer()</pre></div></div></div></div></div></div></div></div><div class=\"sk-parallel-item\"><div class=\"sk-item\"><div class=\"sk-label-container\"><div class=\"sk-label sk-toggleable\"><input class=\"sk-toggleable__control sk-hidden--visually\" id=\"e554a3c7-bbca-4348-9e56-627ff8a5aed2\" type=\"checkbox\" ><label class=\"sk-toggleable__label\" for=\"e554a3c7-bbca-4348-9e56-627ff8a5aed2\">pipeline-2</label><div class=\"sk-toggleable__content\"><pre>['Sex']</pre></div></div></div><div class=\"sk-serial\"><div class=\"sk-item\"><div class=\"sk-serial\"><div class=\"sk-item\"><div class=\"sk-estimator sk-toggleable\"><input class=\"sk-toggleable__control sk-hidden--visually\" id=\"6ffb1366-d1c7-4907-82ee-42f54a199cfe\" type=\"checkbox\" ><label class=\"sk-toggleable__label\" for=\"6ffb1366-d1c7-4907-82ee-42f54a199cfe\">OneHotEncoder</label><div class=\"sk-toggleable__content\"><pre>OneHotEncoder(drop='first')</pre></div></div></div></div></div></div></div></div><div class=\"sk-parallel-item\"><div class=\"sk-item\"><div class=\"sk-label-container\"><div class=\"sk-label sk-toggleable\"><input class=\"sk-toggleable__control sk-hidden--visually\" id=\"0b8fb463-522d-49a4-829c-6d81a0bf7017\" type=\"checkbox\" ><label class=\"sk-toggleable__label\" for=\"0b8fb463-522d-49a4-829c-6d81a0bf7017\">remainder</label><div class=\"sk-toggleable__content\"><pre></pre></div></div></div><div class=\"sk-serial\"><div class=\"sk-item\"><div class=\"sk-estimator sk-toggleable\"><input class=\"sk-toggleable__control sk-hidden--visually\" id=\"47735d9e-866a-43db-8b81-e0d09d6a1e93\" type=\"checkbox\" ><label class=\"sk-toggleable__label\" for=\"47735d9e-866a-43db-8b81-e0d09d6a1e93\">passthrough</label><div class=\"sk-toggleable__content\"><pre>passthrough</pre></div></div></div></div></div></div></div></div><div class=\"sk-item\"><div class=\"sk-estimator sk-toggleable\"><input class=\"sk-toggleable__control sk-hidden--visually\" id=\"5197dd57-89d3-45d9-883a-fd70ba38580d\" type=\"checkbox\" ><label class=\"sk-toggleable__label\" for=\"5197dd57-89d3-45d9-883a-fd70ba38580d\">StandardScaler</label><div class=\"sk-toggleable__content\"><pre>StandardScaler()</pre></div></div></div><div class=\"sk-item\"><div class=\"sk-estimator sk-toggleable\"><input class=\"sk-toggleable__control sk-hidden--visually\" id=\"f94debd9-4882-4786-bb70-70b7ca769149\" type=\"checkbox\" ><label class=\"sk-toggleable__label\" for=\"f94debd9-4882-4786-bb70-70b7ca769149\">LogisticRegression</label><div class=\"sk-toggleable__content\"><pre>LogisticRegression()</pre></div></div></div></div></div></div></div>"
      ],
      "text/plain": [
       "Pipeline(steps=[('columntransformer',\n",
       "                 ColumnTransformer(remainder='passthrough',\n",
       "                                   transformers=[('pipeline-1',\n",
       "                                                  Pipeline(steps=[('knnimputer',\n",
       "                                                                   KNNImputer())]),\n",
       "                                                  ['Age']),\n",
       "                                                 ('pipeline-2',\n",
       "                                                  Pipeline(steps=[('onehotencoder',\n",
       "                                                                   OneHotEncoder(drop='first'))]),\n",
       "                                                  ['Sex'])])),\n",
       "                ('standardscaler', StandardScaler()),\n",
       "                ('logisticregression', LogisticRegression())])"
      ]
     },
     "execution_count": 42,
     "metadata": {},
     "output_type": "execute_result"
    }
   ],
   "source": [
    "# utilizing the KNNImputer to fill the NaN values for the 'Age' column\n",
    "pipe1 = make_pipeline((KNNImputer()))\n",
    "\n",
    "# utilizing the OneHotEncoder to encode the 'Sex' column\n",
    "pipe2 = make_pipeline(OneHotEncoder(drop='first'))\n",
    "\n",
    "# creating a column transformer\n",
    "column_trf = make_column_transformer((pipe1, ['Age']),\n",
    "                                     (pipe2, ['Sex']), \n",
    "                                     remainder='passthrough')\n",
    "\n",
    "# Creating the final Pipeline while employing the Losgistic Regression model as the estimator\n",
    "pipe_lr = make_pipeline(column_trf, StandardScaler(), LogisticRegression())\n",
    "pipe_lr"
   ]
  },
  {
   "cell_type": "code",
   "execution_count": 43,
   "id": "24b8953a",
   "metadata": {},
   "outputs": [
    {
     "name": "stdout",
     "output_type": "stream",
     "text": [
      "Fitting 5 folds for each of 15 candidates, totalling 75 fits\n"
     ]
    },
    {
     "data": {
      "text/html": [
       "<style>#sk-453c5d3f-d561-46e5-8a19-09e1606b4e4a {color: black;background-color: white;}#sk-453c5d3f-d561-46e5-8a19-09e1606b4e4a pre{padding: 0;}#sk-453c5d3f-d561-46e5-8a19-09e1606b4e4a div.sk-toggleable {background-color: white;}#sk-453c5d3f-d561-46e5-8a19-09e1606b4e4a label.sk-toggleable__label {cursor: pointer;display: block;width: 100%;margin-bottom: 0;padding: 0.2em 0.3em;box-sizing: border-box;text-align: center;}#sk-453c5d3f-d561-46e5-8a19-09e1606b4e4a div.sk-toggleable__content {max-height: 0;max-width: 0;overflow: hidden;text-align: left;background-color: #f0f8ff;}#sk-453c5d3f-d561-46e5-8a19-09e1606b4e4a div.sk-toggleable__content pre {margin: 0.2em;color: black;border-radius: 0.25em;background-color: #f0f8ff;}#sk-453c5d3f-d561-46e5-8a19-09e1606b4e4a input.sk-toggleable__control:checked~div.sk-toggleable__content {max-height: 200px;max-width: 100%;overflow: auto;}#sk-453c5d3f-d561-46e5-8a19-09e1606b4e4a div.sk-estimator input.sk-toggleable__control:checked~label.sk-toggleable__label {background-color: #d4ebff;}#sk-453c5d3f-d561-46e5-8a19-09e1606b4e4a div.sk-label input.sk-toggleable__control:checked~label.sk-toggleable__label {background-color: #d4ebff;}#sk-453c5d3f-d561-46e5-8a19-09e1606b4e4a input.sk-hidden--visually {border: 0;clip: rect(1px 1px 1px 1px);clip: rect(1px, 1px, 1px, 1px);height: 1px;margin: -1px;overflow: hidden;padding: 0;position: absolute;width: 1px;}#sk-453c5d3f-d561-46e5-8a19-09e1606b4e4a div.sk-estimator {font-family: monospace;background-color: #f0f8ff;margin: 0.25em 0.25em;border: 1px dotted black;border-radius: 0.25em;box-sizing: border-box;}#sk-453c5d3f-d561-46e5-8a19-09e1606b4e4a div.sk-estimator:hover {background-color: #d4ebff;}#sk-453c5d3f-d561-46e5-8a19-09e1606b4e4a div.sk-parallel-item::after {content: \"\";width: 100%;border-bottom: 1px solid gray;flex-grow: 1;}#sk-453c5d3f-d561-46e5-8a19-09e1606b4e4a div.sk-label:hover label.sk-toggleable__label {background-color: #d4ebff;}#sk-453c5d3f-d561-46e5-8a19-09e1606b4e4a div.sk-serial::before {content: \"\";position: absolute;border-left: 1px solid gray;box-sizing: border-box;top: 2em;bottom: 0;left: 50%;}#sk-453c5d3f-d561-46e5-8a19-09e1606b4e4a div.sk-serial {display: flex;flex-direction: column;align-items: center;background-color: white;}#sk-453c5d3f-d561-46e5-8a19-09e1606b4e4a div.sk-item {z-index: 1;}#sk-453c5d3f-d561-46e5-8a19-09e1606b4e4a div.sk-parallel {display: flex;align-items: stretch;justify-content: center;background-color: white;}#sk-453c5d3f-d561-46e5-8a19-09e1606b4e4a div.sk-parallel-item {display: flex;flex-direction: column;position: relative;background-color: white;}#sk-453c5d3f-d561-46e5-8a19-09e1606b4e4a div.sk-parallel-item:first-child::after {align-self: flex-end;width: 50%;}#sk-453c5d3f-d561-46e5-8a19-09e1606b4e4a div.sk-parallel-item:last-child::after {align-self: flex-start;width: 50%;}#sk-453c5d3f-d561-46e5-8a19-09e1606b4e4a div.sk-parallel-item:only-child::after {width: 0;}#sk-453c5d3f-d561-46e5-8a19-09e1606b4e4a div.sk-dashed-wrapped {border: 1px dashed gray;margin: 0.2em;box-sizing: border-box;padding-bottom: 0.1em;background-color: white;position: relative;}#sk-453c5d3f-d561-46e5-8a19-09e1606b4e4a div.sk-label label {font-family: monospace;font-weight: bold;background-color: white;display: inline-block;line-height: 1.2em;}#sk-453c5d3f-d561-46e5-8a19-09e1606b4e4a div.sk-label-container {position: relative;z-index: 2;text-align: center;}#sk-453c5d3f-d561-46e5-8a19-09e1606b4e4a div.sk-container {display: inline-block;position: relative;}</style><div id=\"sk-453c5d3f-d561-46e5-8a19-09e1606b4e4a\" class\"sk-top-container\"><div class=\"sk-container\"><div class=\"sk-item sk-dashed-wrapped\"><div class=\"sk-label-container\"><div class=\"sk-label sk-toggleable\"><input class=\"sk-toggleable__control sk-hidden--visually\" id=\"549b91f6-d0cb-41c0-8b93-77e1630ce52a\" type=\"checkbox\" ><label class=\"sk-toggleable__label\" for=\"549b91f6-d0cb-41c0-8b93-77e1630ce52a\">GridSearchCV</label><div class=\"sk-toggleable__content\"><pre>GridSearchCV(cv=5,\n",
       "             estimator=Pipeline(steps=[('columntransformer',\n",
       "                                        ColumnTransformer(remainder='passthrough',\n",
       "                                                          transformers=[('pipeline-1',\n",
       "                                                                         Pipeline(steps=[('knnimputer',\n",
       "                                                                                          KNNImputer())]),\n",
       "                                                                         ['Age']),\n",
       "                                                                        ('pipeline-2',\n",
       "                                                                         Pipeline(steps=[('onehotencoder',\n",
       "                                                                                          OneHotEncoder(drop='first'))]),\n",
       "                                                                         ['Sex'])])),\n",
       "                                       ('standardscaler', StandardScaler()),\n",
       "                                       ('logisticregression',\n",
       "                                        LogisticRegression())]),\n",
       "             n_jobs=-1,\n",
       "             param_grid={'columntransformer__pipeline-1__knnimputer__n_neighbors': array([  5,  25, 125]),\n",
       "                         'logisticregression__C': array([1.e-02, 1.e-01, 1.e+00, 1.e+01, 1.e+02])},\n",
       "             verbose=1)</pre></div></div></div><div class=\"sk-parallel\"><div class=\"sk-parallel-item\"><div class=\"sk-item\"><div class=\"sk-serial\"><div class=\"sk-item\"><div class=\"sk-serial\"><div class=\"sk-item sk-dashed-wrapped\"><div class=\"sk-label-container\"><div class=\"sk-label sk-toggleable\"><input class=\"sk-toggleable__control sk-hidden--visually\" id=\"3ba15544-67d2-409a-ae61-d48c924743a3\" type=\"checkbox\" ><label class=\"sk-toggleable__label\" for=\"3ba15544-67d2-409a-ae61-d48c924743a3\">columntransformer: ColumnTransformer</label><div class=\"sk-toggleable__content\"><pre>ColumnTransformer(remainder='passthrough',\n",
       "                  transformers=[('pipeline-1',\n",
       "                                 Pipeline(steps=[('knnimputer', KNNImputer())]),\n",
       "                                 ['Age']),\n",
       "                                ('pipeline-2',\n",
       "                                 Pipeline(steps=[('onehotencoder',\n",
       "                                                  OneHotEncoder(drop='first'))]),\n",
       "                                 ['Sex'])])</pre></div></div></div><div class=\"sk-parallel\"><div class=\"sk-parallel-item\"><div class=\"sk-item\"><div class=\"sk-label-container\"><div class=\"sk-label sk-toggleable\"><input class=\"sk-toggleable__control sk-hidden--visually\" id=\"32e1ce12-23f8-4cce-8f0e-f3df884ffe82\" type=\"checkbox\" ><label class=\"sk-toggleable__label\" for=\"32e1ce12-23f8-4cce-8f0e-f3df884ffe82\">pipeline-1</label><div class=\"sk-toggleable__content\"><pre>['Age']</pre></div></div></div><div class=\"sk-serial\"><div class=\"sk-item\"><div class=\"sk-serial\"><div class=\"sk-item\"><div class=\"sk-estimator sk-toggleable\"><input class=\"sk-toggleable__control sk-hidden--visually\" id=\"af6aa607-8c51-430c-b057-8f493a2d82a7\" type=\"checkbox\" ><label class=\"sk-toggleable__label\" for=\"af6aa607-8c51-430c-b057-8f493a2d82a7\">KNNImputer</label><div class=\"sk-toggleable__content\"><pre>KNNImputer()</pre></div></div></div></div></div></div></div></div><div class=\"sk-parallel-item\"><div class=\"sk-item\"><div class=\"sk-label-container\"><div class=\"sk-label sk-toggleable\"><input class=\"sk-toggleable__control sk-hidden--visually\" id=\"23cf69e0-908c-47e7-878c-a9efc3a7dd92\" type=\"checkbox\" ><label class=\"sk-toggleable__label\" for=\"23cf69e0-908c-47e7-878c-a9efc3a7dd92\">pipeline-2</label><div class=\"sk-toggleable__content\"><pre>['Sex']</pre></div></div></div><div class=\"sk-serial\"><div class=\"sk-item\"><div class=\"sk-serial\"><div class=\"sk-item\"><div class=\"sk-estimator sk-toggleable\"><input class=\"sk-toggleable__control sk-hidden--visually\" id=\"38fa4296-8536-47fd-b034-f006c1f75e23\" type=\"checkbox\" ><label class=\"sk-toggleable__label\" for=\"38fa4296-8536-47fd-b034-f006c1f75e23\">OneHotEncoder</label><div class=\"sk-toggleable__content\"><pre>OneHotEncoder(drop='first')</pre></div></div></div></div></div></div></div></div><div class=\"sk-parallel-item\"><div class=\"sk-item\"><div class=\"sk-label-container\"><div class=\"sk-label sk-toggleable\"><input class=\"sk-toggleable__control sk-hidden--visually\" id=\"0accbb9c-776b-4b7d-b621-edc5519e0ec3\" type=\"checkbox\" ><label class=\"sk-toggleable__label\" for=\"0accbb9c-776b-4b7d-b621-edc5519e0ec3\">remainder</label><div class=\"sk-toggleable__content\"><pre></pre></div></div></div><div class=\"sk-serial\"><div class=\"sk-item\"><div class=\"sk-estimator sk-toggleable\"><input class=\"sk-toggleable__control sk-hidden--visually\" id=\"de606a0b-70c9-4ac0-8534-8e643765dbce\" type=\"checkbox\" ><label class=\"sk-toggleable__label\" for=\"de606a0b-70c9-4ac0-8534-8e643765dbce\">passthrough</label><div class=\"sk-toggleable__content\"><pre>passthrough</pre></div></div></div></div></div></div></div></div><div class=\"sk-item\"><div class=\"sk-estimator sk-toggleable\"><input class=\"sk-toggleable__control sk-hidden--visually\" id=\"d93aa7d9-90ef-4451-953f-cd012c36f386\" type=\"checkbox\" ><label class=\"sk-toggleable__label\" for=\"d93aa7d9-90ef-4451-953f-cd012c36f386\">StandardScaler</label><div class=\"sk-toggleable__content\"><pre>StandardScaler()</pre></div></div></div><div class=\"sk-item\"><div class=\"sk-estimator sk-toggleable\"><input class=\"sk-toggleable__control sk-hidden--visually\" id=\"b46cdb05-cb12-4bdf-bb3e-1be2023629d3\" type=\"checkbox\" ><label class=\"sk-toggleable__label\" for=\"b46cdb05-cb12-4bdf-bb3e-1be2023629d3\">LogisticRegression</label><div class=\"sk-toggleable__content\"><pre>LogisticRegression()</pre></div></div></div></div></div></div></div></div></div></div></div></div>"
      ],
      "text/plain": [
       "GridSearchCV(cv=5,\n",
       "             estimator=Pipeline(steps=[('columntransformer',\n",
       "                                        ColumnTransformer(remainder='passthrough',\n",
       "                                                          transformers=[('pipeline-1',\n",
       "                                                                         Pipeline(steps=[('knnimputer',\n",
       "                                                                                          KNNImputer())]),\n",
       "                                                                         ['Age']),\n",
       "                                                                        ('pipeline-2',\n",
       "                                                                         Pipeline(steps=[('onehotencoder',\n",
       "                                                                                          OneHotEncoder(drop='first'))]),\n",
       "                                                                         ['Sex'])])),\n",
       "                                       ('standardscaler', StandardScaler()),\n",
       "                                       ('logisticregression',\n",
       "                                        LogisticRegression())]),\n",
       "             n_jobs=-1,\n",
       "             param_grid={'columntransformer__pipeline-1__knnimputer__n_neighbors': array([  5,  25, 125]),\n",
       "                         'logisticregression__C': array([1.e-02, 1.e-01, 1.e+00, 1.e+01, 1.e+02])},\n",
       "             verbose=1)"
      ]
     },
     "execution_count": 43,
     "metadata": {},
     "output_type": "execute_result"
    }
   ],
   "source": [
    "param_grid = {'columntransformer__pipeline-1__knnimputer__n_neighbors': np.logspace(1, 3, 3, base= 5, dtype=np.int32),\n",
    "              'logisticregression__C': np.logspace(-2,2, 5)}\n",
    "gs_lr = GridSearchCV(pipe_lr, param_grid=param_grid, cv=5, verbose=1, n_jobs=-1)\n",
    "gs_lr.fit(X_train, y_train.squeeze())"
   ]
  },
  {
   "cell_type": "code",
   "execution_count": 44,
   "id": "f1dd9765",
   "metadata": {},
   "outputs": [
    {
     "name": "stdout",
     "output_type": "stream",
     "text": [
      "Using the LR and GridSearchCV best score equals 78.14 %\n"
     ]
    }
   ],
   "source": [
    "print('Using the LR and GridSearchCV best score equals', round(gs_lr.best_score_*100, 2), '%')"
   ]
  },
  {
   "cell_type": "markdown",
   "id": "b6f7c863",
   "metadata": {},
   "source": [
    "### Pipeline with RandomForestClassifier model"
   ]
  },
  {
   "cell_type": "code",
   "execution_count": 45,
   "id": "30681888",
   "metadata": {},
   "outputs": [
    {
     "data": {
      "text/html": [
       "<style>#sk-5ed92220-6e29-4331-8ea9-07a570332895 {color: black;background-color: white;}#sk-5ed92220-6e29-4331-8ea9-07a570332895 pre{padding: 0;}#sk-5ed92220-6e29-4331-8ea9-07a570332895 div.sk-toggleable {background-color: white;}#sk-5ed92220-6e29-4331-8ea9-07a570332895 label.sk-toggleable__label {cursor: pointer;display: block;width: 100%;margin-bottom: 0;padding: 0.2em 0.3em;box-sizing: border-box;text-align: center;}#sk-5ed92220-6e29-4331-8ea9-07a570332895 div.sk-toggleable__content {max-height: 0;max-width: 0;overflow: hidden;text-align: left;background-color: #f0f8ff;}#sk-5ed92220-6e29-4331-8ea9-07a570332895 div.sk-toggleable__content pre {margin: 0.2em;color: black;border-radius: 0.25em;background-color: #f0f8ff;}#sk-5ed92220-6e29-4331-8ea9-07a570332895 input.sk-toggleable__control:checked~div.sk-toggleable__content {max-height: 200px;max-width: 100%;overflow: auto;}#sk-5ed92220-6e29-4331-8ea9-07a570332895 div.sk-estimator input.sk-toggleable__control:checked~label.sk-toggleable__label {background-color: #d4ebff;}#sk-5ed92220-6e29-4331-8ea9-07a570332895 div.sk-label input.sk-toggleable__control:checked~label.sk-toggleable__label {background-color: #d4ebff;}#sk-5ed92220-6e29-4331-8ea9-07a570332895 input.sk-hidden--visually {border: 0;clip: rect(1px 1px 1px 1px);clip: rect(1px, 1px, 1px, 1px);height: 1px;margin: -1px;overflow: hidden;padding: 0;position: absolute;width: 1px;}#sk-5ed92220-6e29-4331-8ea9-07a570332895 div.sk-estimator {font-family: monospace;background-color: #f0f8ff;margin: 0.25em 0.25em;border: 1px dotted black;border-radius: 0.25em;box-sizing: border-box;}#sk-5ed92220-6e29-4331-8ea9-07a570332895 div.sk-estimator:hover {background-color: #d4ebff;}#sk-5ed92220-6e29-4331-8ea9-07a570332895 div.sk-parallel-item::after {content: \"\";width: 100%;border-bottom: 1px solid gray;flex-grow: 1;}#sk-5ed92220-6e29-4331-8ea9-07a570332895 div.sk-label:hover label.sk-toggleable__label {background-color: #d4ebff;}#sk-5ed92220-6e29-4331-8ea9-07a570332895 div.sk-serial::before {content: \"\";position: absolute;border-left: 1px solid gray;box-sizing: border-box;top: 2em;bottom: 0;left: 50%;}#sk-5ed92220-6e29-4331-8ea9-07a570332895 div.sk-serial {display: flex;flex-direction: column;align-items: center;background-color: white;}#sk-5ed92220-6e29-4331-8ea9-07a570332895 div.sk-item {z-index: 1;}#sk-5ed92220-6e29-4331-8ea9-07a570332895 div.sk-parallel {display: flex;align-items: stretch;justify-content: center;background-color: white;}#sk-5ed92220-6e29-4331-8ea9-07a570332895 div.sk-parallel-item {display: flex;flex-direction: column;position: relative;background-color: white;}#sk-5ed92220-6e29-4331-8ea9-07a570332895 div.sk-parallel-item:first-child::after {align-self: flex-end;width: 50%;}#sk-5ed92220-6e29-4331-8ea9-07a570332895 div.sk-parallel-item:last-child::after {align-self: flex-start;width: 50%;}#sk-5ed92220-6e29-4331-8ea9-07a570332895 div.sk-parallel-item:only-child::after {width: 0;}#sk-5ed92220-6e29-4331-8ea9-07a570332895 div.sk-dashed-wrapped {border: 1px dashed gray;margin: 0.2em;box-sizing: border-box;padding-bottom: 0.1em;background-color: white;position: relative;}#sk-5ed92220-6e29-4331-8ea9-07a570332895 div.sk-label label {font-family: monospace;font-weight: bold;background-color: white;display: inline-block;line-height: 1.2em;}#sk-5ed92220-6e29-4331-8ea9-07a570332895 div.sk-label-container {position: relative;z-index: 2;text-align: center;}#sk-5ed92220-6e29-4331-8ea9-07a570332895 div.sk-container {display: inline-block;position: relative;}</style><div id=\"sk-5ed92220-6e29-4331-8ea9-07a570332895\" class\"sk-top-container\"><div class=\"sk-container\"><div class=\"sk-item sk-dashed-wrapped\"><div class=\"sk-label-container\"><div class=\"sk-label sk-toggleable\"><input class=\"sk-toggleable__control sk-hidden--visually\" id=\"bf4a98ee-956c-4af1-bbac-18e172b0423b\" type=\"checkbox\" ><label class=\"sk-toggleable__label\" for=\"bf4a98ee-956c-4af1-bbac-18e172b0423b\">Pipeline</label><div class=\"sk-toggleable__content\"><pre>Pipeline(steps=[('columntransformer',\n",
       "                 ColumnTransformer(remainder='passthrough',\n",
       "                                   transformers=[('pipeline-1',\n",
       "                                                  Pipeline(steps=[('knnimputer',\n",
       "                                                                   KNNImputer())]),\n",
       "                                                  ['Age']),\n",
       "                                                 ('pipeline-2',\n",
       "                                                  Pipeline(steps=[('onehotencoder',\n",
       "                                                                   OneHotEncoder(drop='first'))]),\n",
       "                                                  ['Sex'])])),\n",
       "                ('standardscaler', StandardScaler()),\n",
       "                ('randomforestclassifier', RandomForestClassifier())])</pre></div></div></div><div class=\"sk-serial\"><div class=\"sk-item sk-dashed-wrapped\"><div class=\"sk-label-container\"><div class=\"sk-label sk-toggleable\"><input class=\"sk-toggleable__control sk-hidden--visually\" id=\"465103bf-29e2-4fe7-99c9-b2ce4c772e31\" type=\"checkbox\" ><label class=\"sk-toggleable__label\" for=\"465103bf-29e2-4fe7-99c9-b2ce4c772e31\">columntransformer: ColumnTransformer</label><div class=\"sk-toggleable__content\"><pre>ColumnTransformer(remainder='passthrough',\n",
       "                  transformers=[('pipeline-1',\n",
       "                                 Pipeline(steps=[('knnimputer', KNNImputer())]),\n",
       "                                 ['Age']),\n",
       "                                ('pipeline-2',\n",
       "                                 Pipeline(steps=[('onehotencoder',\n",
       "                                                  OneHotEncoder(drop='first'))]),\n",
       "                                 ['Sex'])])</pre></div></div></div><div class=\"sk-parallel\"><div class=\"sk-parallel-item\"><div class=\"sk-item\"><div class=\"sk-label-container\"><div class=\"sk-label sk-toggleable\"><input class=\"sk-toggleable__control sk-hidden--visually\" id=\"7914f9ea-cc4d-4e2b-a0f7-81074fe7484f\" type=\"checkbox\" ><label class=\"sk-toggleable__label\" for=\"7914f9ea-cc4d-4e2b-a0f7-81074fe7484f\">pipeline-1</label><div class=\"sk-toggleable__content\"><pre>['Age']</pre></div></div></div><div class=\"sk-serial\"><div class=\"sk-item\"><div class=\"sk-serial\"><div class=\"sk-item\"><div class=\"sk-estimator sk-toggleable\"><input class=\"sk-toggleable__control sk-hidden--visually\" id=\"feebc60e-7051-48a6-abb4-29d5e7c932bf\" type=\"checkbox\" ><label class=\"sk-toggleable__label\" for=\"feebc60e-7051-48a6-abb4-29d5e7c932bf\">KNNImputer</label><div class=\"sk-toggleable__content\"><pre>KNNImputer()</pre></div></div></div></div></div></div></div></div><div class=\"sk-parallel-item\"><div class=\"sk-item\"><div class=\"sk-label-container\"><div class=\"sk-label sk-toggleable\"><input class=\"sk-toggleable__control sk-hidden--visually\" id=\"13e51355-8165-40eb-bdfa-b770da0bebef\" type=\"checkbox\" ><label class=\"sk-toggleable__label\" for=\"13e51355-8165-40eb-bdfa-b770da0bebef\">pipeline-2</label><div class=\"sk-toggleable__content\"><pre>['Sex']</pre></div></div></div><div class=\"sk-serial\"><div class=\"sk-item\"><div class=\"sk-serial\"><div class=\"sk-item\"><div class=\"sk-estimator sk-toggleable\"><input class=\"sk-toggleable__control sk-hidden--visually\" id=\"6ddc36e8-fccc-4002-8033-2a16c6782d5c\" type=\"checkbox\" ><label class=\"sk-toggleable__label\" for=\"6ddc36e8-fccc-4002-8033-2a16c6782d5c\">OneHotEncoder</label><div class=\"sk-toggleable__content\"><pre>OneHotEncoder(drop='first')</pre></div></div></div></div></div></div></div></div><div class=\"sk-parallel-item\"><div class=\"sk-item\"><div class=\"sk-label-container\"><div class=\"sk-label sk-toggleable\"><input class=\"sk-toggleable__control sk-hidden--visually\" id=\"90f539fa-5899-4b37-ab3b-8af6654bb29c\" type=\"checkbox\" ><label class=\"sk-toggleable__label\" for=\"90f539fa-5899-4b37-ab3b-8af6654bb29c\">remainder</label><div class=\"sk-toggleable__content\"><pre></pre></div></div></div><div class=\"sk-serial\"><div class=\"sk-item\"><div class=\"sk-estimator sk-toggleable\"><input class=\"sk-toggleable__control sk-hidden--visually\" id=\"bd4a1b12-653d-4f4b-a141-22e66c7d7248\" type=\"checkbox\" ><label class=\"sk-toggleable__label\" for=\"bd4a1b12-653d-4f4b-a141-22e66c7d7248\">passthrough</label><div class=\"sk-toggleable__content\"><pre>passthrough</pre></div></div></div></div></div></div></div></div><div class=\"sk-item\"><div class=\"sk-estimator sk-toggleable\"><input class=\"sk-toggleable__control sk-hidden--visually\" id=\"b32a913f-cb03-4e54-a9cb-88960e573b31\" type=\"checkbox\" ><label class=\"sk-toggleable__label\" for=\"b32a913f-cb03-4e54-a9cb-88960e573b31\">StandardScaler</label><div class=\"sk-toggleable__content\"><pre>StandardScaler()</pre></div></div></div><div class=\"sk-item\"><div class=\"sk-estimator sk-toggleable\"><input class=\"sk-toggleable__control sk-hidden--visually\" id=\"80e301b1-86df-4ee4-95f9-83586f57d6b4\" type=\"checkbox\" ><label class=\"sk-toggleable__label\" for=\"80e301b1-86df-4ee4-95f9-83586f57d6b4\">RandomForestClassifier</label><div class=\"sk-toggleable__content\"><pre>RandomForestClassifier()</pre></div></div></div></div></div></div></div>"
      ],
      "text/plain": [
       "Pipeline(steps=[('columntransformer',\n",
       "                 ColumnTransformer(remainder='passthrough',\n",
       "                                   transformers=[('pipeline-1',\n",
       "                                                  Pipeline(steps=[('knnimputer',\n",
       "                                                                   KNNImputer())]),\n",
       "                                                  ['Age']),\n",
       "                                                 ('pipeline-2',\n",
       "                                                  Pipeline(steps=[('onehotencoder',\n",
       "                                                                   OneHotEncoder(drop='first'))]),\n",
       "                                                  ['Sex'])])),\n",
       "                ('standardscaler', StandardScaler()),\n",
       "                ('randomforestclassifier', RandomForestClassifier())])"
      ]
     },
     "execution_count": 45,
     "metadata": {},
     "output_type": "execute_result"
    }
   ],
   "source": [
    "# utilizing the KNNImputer to fill the NaN values for the 'Age' column\n",
    "pipe1 = make_pipeline((KNNImputer()))\n",
    "\n",
    "# utilizing the OneHotEncoder to encode the 'Sex' column\n",
    "pipe2 = make_pipeline(OneHotEncoder(drop='first'))\n",
    "\n",
    "# creating a column transformer\n",
    "column_trf = make_column_transformer((pipe1, ['Age']),\n",
    "                                     (pipe2, ['Sex']), \n",
    "                                     remainder='passthrough')\n",
    "\n",
    "# Creating the final Pipeline while employing the Randomm Forest model as the estimator\n",
    "pipe_rf = make_pipeline(column_trf, StandardScaler(), RandomForestClassifier())\n",
    "pipe_rf"
   ]
  },
  {
   "cell_type": "code",
   "execution_count": 46,
   "id": "7fb095d0",
   "metadata": {},
   "outputs": [
    {
     "name": "stdout",
     "output_type": "stream",
     "text": [
      "Fitting 5 folds for each of 72 candidates, totalling 360 fits\n"
     ]
    },
    {
     "data": {
      "text/html": [
       "<style>#sk-7265ef71-3fe9-45ea-bc9e-0748887ecda4 {color: black;background-color: white;}#sk-7265ef71-3fe9-45ea-bc9e-0748887ecda4 pre{padding: 0;}#sk-7265ef71-3fe9-45ea-bc9e-0748887ecda4 div.sk-toggleable {background-color: white;}#sk-7265ef71-3fe9-45ea-bc9e-0748887ecda4 label.sk-toggleable__label {cursor: pointer;display: block;width: 100%;margin-bottom: 0;padding: 0.2em 0.3em;box-sizing: border-box;text-align: center;}#sk-7265ef71-3fe9-45ea-bc9e-0748887ecda4 div.sk-toggleable__content {max-height: 0;max-width: 0;overflow: hidden;text-align: left;background-color: #f0f8ff;}#sk-7265ef71-3fe9-45ea-bc9e-0748887ecda4 div.sk-toggleable__content pre {margin: 0.2em;color: black;border-radius: 0.25em;background-color: #f0f8ff;}#sk-7265ef71-3fe9-45ea-bc9e-0748887ecda4 input.sk-toggleable__control:checked~div.sk-toggleable__content {max-height: 200px;max-width: 100%;overflow: auto;}#sk-7265ef71-3fe9-45ea-bc9e-0748887ecda4 div.sk-estimator input.sk-toggleable__control:checked~label.sk-toggleable__label {background-color: #d4ebff;}#sk-7265ef71-3fe9-45ea-bc9e-0748887ecda4 div.sk-label input.sk-toggleable__control:checked~label.sk-toggleable__label {background-color: #d4ebff;}#sk-7265ef71-3fe9-45ea-bc9e-0748887ecda4 input.sk-hidden--visually {border: 0;clip: rect(1px 1px 1px 1px);clip: rect(1px, 1px, 1px, 1px);height: 1px;margin: -1px;overflow: hidden;padding: 0;position: absolute;width: 1px;}#sk-7265ef71-3fe9-45ea-bc9e-0748887ecda4 div.sk-estimator {font-family: monospace;background-color: #f0f8ff;margin: 0.25em 0.25em;border: 1px dotted black;border-radius: 0.25em;box-sizing: border-box;}#sk-7265ef71-3fe9-45ea-bc9e-0748887ecda4 div.sk-estimator:hover {background-color: #d4ebff;}#sk-7265ef71-3fe9-45ea-bc9e-0748887ecda4 div.sk-parallel-item::after {content: \"\";width: 100%;border-bottom: 1px solid gray;flex-grow: 1;}#sk-7265ef71-3fe9-45ea-bc9e-0748887ecda4 div.sk-label:hover label.sk-toggleable__label {background-color: #d4ebff;}#sk-7265ef71-3fe9-45ea-bc9e-0748887ecda4 div.sk-serial::before {content: \"\";position: absolute;border-left: 1px solid gray;box-sizing: border-box;top: 2em;bottom: 0;left: 50%;}#sk-7265ef71-3fe9-45ea-bc9e-0748887ecda4 div.sk-serial {display: flex;flex-direction: column;align-items: center;background-color: white;}#sk-7265ef71-3fe9-45ea-bc9e-0748887ecda4 div.sk-item {z-index: 1;}#sk-7265ef71-3fe9-45ea-bc9e-0748887ecda4 div.sk-parallel {display: flex;align-items: stretch;justify-content: center;background-color: white;}#sk-7265ef71-3fe9-45ea-bc9e-0748887ecda4 div.sk-parallel-item {display: flex;flex-direction: column;position: relative;background-color: white;}#sk-7265ef71-3fe9-45ea-bc9e-0748887ecda4 div.sk-parallel-item:first-child::after {align-self: flex-end;width: 50%;}#sk-7265ef71-3fe9-45ea-bc9e-0748887ecda4 div.sk-parallel-item:last-child::after {align-self: flex-start;width: 50%;}#sk-7265ef71-3fe9-45ea-bc9e-0748887ecda4 div.sk-parallel-item:only-child::after {width: 0;}#sk-7265ef71-3fe9-45ea-bc9e-0748887ecda4 div.sk-dashed-wrapped {border: 1px dashed gray;margin: 0.2em;box-sizing: border-box;padding-bottom: 0.1em;background-color: white;position: relative;}#sk-7265ef71-3fe9-45ea-bc9e-0748887ecda4 div.sk-label label {font-family: monospace;font-weight: bold;background-color: white;display: inline-block;line-height: 1.2em;}#sk-7265ef71-3fe9-45ea-bc9e-0748887ecda4 div.sk-label-container {position: relative;z-index: 2;text-align: center;}#sk-7265ef71-3fe9-45ea-bc9e-0748887ecda4 div.sk-container {display: inline-block;position: relative;}</style><div id=\"sk-7265ef71-3fe9-45ea-bc9e-0748887ecda4\" class\"sk-top-container\"><div class=\"sk-container\"><div class=\"sk-item sk-dashed-wrapped\"><div class=\"sk-label-container\"><div class=\"sk-label sk-toggleable\"><input class=\"sk-toggleable__control sk-hidden--visually\" id=\"b9f91df1-7ea3-43a2-a425-09646ea64131\" type=\"checkbox\" ><label class=\"sk-toggleable__label\" for=\"b9f91df1-7ea3-43a2-a425-09646ea64131\">GridSearchCV</label><div class=\"sk-toggleable__content\"><pre>GridSearchCV(cv=5,\n",
       "             estimator=Pipeline(steps=[('columntransformer',\n",
       "                                        ColumnTransformer(remainder='passthrough',\n",
       "                                                          transformers=[('pipeline-1',\n",
       "                                                                         Pipeline(steps=[('knnimputer',\n",
       "                                                                                          KNNImputer())]),\n",
       "                                                                         ['Age']),\n",
       "                                                                        ('pipeline-2',\n",
       "                                                                         Pipeline(steps=[('onehotencoder',\n",
       "                                                                                          OneHotEncoder(drop='first'))]),\n",
       "                                                                         ['Sex'])])),\n",
       "                                       ('standardscaler', StandardScaler()),\n",
       "                                       ('randomforestclassifier',\n",
       "                                        RandomForestClassifier())]),\n",
       "             n_jobs=-1,\n",
       "             param_grid={'columntransformer__pipeline-1__knnimputer__n_neighbors': array([ 3,  4,  7, 12, 19, 31, 50, 81]),\n",
       "                         'randomforestclassifier__max_depth': array([  5,  25, 125]),\n",
       "                         'randomforestclassifier__n_estimators': array([  5,  25, 125])},\n",
       "             verbose=1)</pre></div></div></div><div class=\"sk-parallel\"><div class=\"sk-parallel-item\"><div class=\"sk-item\"><div class=\"sk-serial\"><div class=\"sk-item\"><div class=\"sk-serial\"><div class=\"sk-item sk-dashed-wrapped\"><div class=\"sk-label-container\"><div class=\"sk-label sk-toggleable\"><input class=\"sk-toggleable__control sk-hidden--visually\" id=\"bbf4138d-57d7-4294-a3b0-344179fc73bc\" type=\"checkbox\" ><label class=\"sk-toggleable__label\" for=\"bbf4138d-57d7-4294-a3b0-344179fc73bc\">columntransformer: ColumnTransformer</label><div class=\"sk-toggleable__content\"><pre>ColumnTransformer(remainder='passthrough',\n",
       "                  transformers=[('pipeline-1',\n",
       "                                 Pipeline(steps=[('knnimputer', KNNImputer())]),\n",
       "                                 ['Age']),\n",
       "                                ('pipeline-2',\n",
       "                                 Pipeline(steps=[('onehotencoder',\n",
       "                                                  OneHotEncoder(drop='first'))]),\n",
       "                                 ['Sex'])])</pre></div></div></div><div class=\"sk-parallel\"><div class=\"sk-parallel-item\"><div class=\"sk-item\"><div class=\"sk-label-container\"><div class=\"sk-label sk-toggleable\"><input class=\"sk-toggleable__control sk-hidden--visually\" id=\"26738895-81c6-45f5-8886-97e50fe4edcf\" type=\"checkbox\" ><label class=\"sk-toggleable__label\" for=\"26738895-81c6-45f5-8886-97e50fe4edcf\">pipeline-1</label><div class=\"sk-toggleable__content\"><pre>['Age']</pre></div></div></div><div class=\"sk-serial\"><div class=\"sk-item\"><div class=\"sk-serial\"><div class=\"sk-item\"><div class=\"sk-estimator sk-toggleable\"><input class=\"sk-toggleable__control sk-hidden--visually\" id=\"17ecc409-db38-4d8b-b7fa-4b8a95da806e\" type=\"checkbox\" ><label class=\"sk-toggleable__label\" for=\"17ecc409-db38-4d8b-b7fa-4b8a95da806e\">KNNImputer</label><div class=\"sk-toggleable__content\"><pre>KNNImputer()</pre></div></div></div></div></div></div></div></div><div class=\"sk-parallel-item\"><div class=\"sk-item\"><div class=\"sk-label-container\"><div class=\"sk-label sk-toggleable\"><input class=\"sk-toggleable__control sk-hidden--visually\" id=\"1ee3da08-6bdc-4d30-b8a2-43693aa2abf5\" type=\"checkbox\" ><label class=\"sk-toggleable__label\" for=\"1ee3da08-6bdc-4d30-b8a2-43693aa2abf5\">pipeline-2</label><div class=\"sk-toggleable__content\"><pre>['Sex']</pre></div></div></div><div class=\"sk-serial\"><div class=\"sk-item\"><div class=\"sk-serial\"><div class=\"sk-item\"><div class=\"sk-estimator sk-toggleable\"><input class=\"sk-toggleable__control sk-hidden--visually\" id=\"6a7599be-dc93-4e65-b208-4e3488ce73c6\" type=\"checkbox\" ><label class=\"sk-toggleable__label\" for=\"6a7599be-dc93-4e65-b208-4e3488ce73c6\">OneHotEncoder</label><div class=\"sk-toggleable__content\"><pre>OneHotEncoder(drop='first')</pre></div></div></div></div></div></div></div></div><div class=\"sk-parallel-item\"><div class=\"sk-item\"><div class=\"sk-label-container\"><div class=\"sk-label sk-toggleable\"><input class=\"sk-toggleable__control sk-hidden--visually\" id=\"38178025-ee01-4cc6-8b62-64fd2c9695da\" type=\"checkbox\" ><label class=\"sk-toggleable__label\" for=\"38178025-ee01-4cc6-8b62-64fd2c9695da\">remainder</label><div class=\"sk-toggleable__content\"><pre></pre></div></div></div><div class=\"sk-serial\"><div class=\"sk-item\"><div class=\"sk-estimator sk-toggleable\"><input class=\"sk-toggleable__control sk-hidden--visually\" id=\"fd0ee1a0-4295-46ee-a309-9f7c978e22dd\" type=\"checkbox\" ><label class=\"sk-toggleable__label\" for=\"fd0ee1a0-4295-46ee-a309-9f7c978e22dd\">passthrough</label><div class=\"sk-toggleable__content\"><pre>passthrough</pre></div></div></div></div></div></div></div></div><div class=\"sk-item\"><div class=\"sk-estimator sk-toggleable\"><input class=\"sk-toggleable__control sk-hidden--visually\" id=\"dbbd1891-4739-4f91-a129-94aff3c55b71\" type=\"checkbox\" ><label class=\"sk-toggleable__label\" for=\"dbbd1891-4739-4f91-a129-94aff3c55b71\">StandardScaler</label><div class=\"sk-toggleable__content\"><pre>StandardScaler()</pre></div></div></div><div class=\"sk-item\"><div class=\"sk-estimator sk-toggleable\"><input class=\"sk-toggleable__control sk-hidden--visually\" id=\"04d21ca0-f8e3-41b8-b416-11e8c2be6ddb\" type=\"checkbox\" ><label class=\"sk-toggleable__label\" for=\"04d21ca0-f8e3-41b8-b416-11e8c2be6ddb\">RandomForestClassifier</label><div class=\"sk-toggleable__content\"><pre>RandomForestClassifier()</pre></div></div></div></div></div></div></div></div></div></div></div></div>"
      ],
      "text/plain": [
       "GridSearchCV(cv=5,\n",
       "             estimator=Pipeline(steps=[('columntransformer',\n",
       "                                        ColumnTransformer(remainder='passthrough',\n",
       "                                                          transformers=[('pipeline-1',\n",
       "                                                                         Pipeline(steps=[('knnimputer',\n",
       "                                                                                          KNNImputer())]),\n",
       "                                                                         ['Age']),\n",
       "                                                                        ('pipeline-2',\n",
       "                                                                         Pipeline(steps=[('onehotencoder',\n",
       "                                                                                          OneHotEncoder(drop='first'))]),\n",
       "                                                                         ['Sex'])])),\n",
       "                                       ('standardscaler', StandardScaler()),\n",
       "                                       ('randomforestclassifier',\n",
       "                                        RandomForestClassifier())]),\n",
       "             n_jobs=-1,\n",
       "             param_grid={'columntransformer__pipeline-1__knnimputer__n_neighbors': array([ 3,  4,  7, 12, 19, 31, 50, 81]),\n",
       "                         'randomforestclassifier__max_depth': array([  5,  25, 125]),\n",
       "                         'randomforestclassifier__n_estimators': array([  5,  25, 125])},\n",
       "             verbose=1)"
      ]
     },
     "execution_count": 46,
     "metadata": {},
     "output_type": "execute_result"
    }
   ],
   "source": [
    "param_grid = {'columntransformer__pipeline-1__knnimputer__n_neighbors': np.logspace(1, 4, 8, base=3, dtype=np.int32),\n",
    "              'randomforestclassifier__max_depth': np.logspace(1, 3, 3, base=5, dtype=np.int32),\n",
    "              'randomforestclassifier__n_estimators': np.logspace(1, 3, 3, base=5, dtype=np.int32)}\n",
    "gs_rf = GridSearchCV(pipe_rf, param_grid=param_grid, cv=5, verbose=1, n_jobs=-1)\n",
    "gs_rf.fit(X_train, y_train.squeeze())"
   ]
  },
  {
   "cell_type": "code",
   "execution_count": 47,
   "id": "3ff7044d",
   "metadata": {},
   "outputs": [
    {
     "name": "stdout",
     "output_type": "stream",
     "text": [
      "Using RF and GridSearchCV best score equals 87.8 %\n"
     ]
    }
   ],
   "source": [
    "print('Using RF and GridSearchCV best score equals', round(gs_rf.best_score_*100, 2), '%')"
   ]
  }
 ],
 "metadata": {
  "kernelspec": {
   "display_name": "Python 3 (ipykernel)",
   "language": "python",
   "name": "python3"
  },
  "language_info": {
   "codemirror_mode": {
    "name": "ipython",
    "version": 3
   },
   "file_extension": ".py",
   "mimetype": "text/x-python",
   "name": "python",
   "nbconvert_exporter": "python",
   "pygments_lexer": "ipython3",
   "version": "3.9.7"
  }
 },
 "nbformat": 4,
 "nbformat_minor": 5
}
